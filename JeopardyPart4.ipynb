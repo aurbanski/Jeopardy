{
 "cells": [
  {
   "cell_type": "code",
   "execution_count": 46,
   "metadata": {
    "scrolled": true
   },
   "outputs": [
    {
     "name": "stdout",
     "output_type": "stream",
     "text": [
      "$400       42244\n",
      "$800       31860\n",
      "$200       30455\n",
      "$600       20377\n",
      "$1000      19539\n",
      "$1200      11331\n",
      "$2000      11243\n",
      "$1600      10801\n",
      "$100        9029\n",
      "$500        9016\n",
      "$300        8663\n",
      "0           3634\n",
      "$1,000      2101\n",
      "$2,000      1586\n",
      "$3,000       769\n",
      "$1,500       546\n",
      "$1,200       441\n",
      "$4,000       349\n",
      "$1,600       239\n",
      "$2,500       232\n",
      "$5,000       231\n",
      "$1,400       228\n",
      "$700         203\n",
      "$1,800       182\n",
      "$2,200       147\n",
      "$2,400       127\n",
      "$900         114\n",
      "$6,000        85\n",
      "$2,600        83\n",
      "$1,300        75\n",
      "           ...  \n",
      "$601           1\n",
      "$1,809         1\n",
      "$14,200        1\n",
      "$1,183         1\n",
      "$1,492         1\n",
      "$1,777         1\n",
      "$3,150         1\n",
      "$9,800         1\n",
      "$4,300         1\n",
      "$13,200        1\n",
      "$16,400        1\n",
      "$367           1\n",
      "$8,700         1\n",
      "$3,599         1\n",
      "$8,800         1\n",
      "$2,746         1\n",
      "$8,917         1\n",
      "$2,222         1\n",
      "$2547          1\n",
      "$3,201         1\n",
      "$2,344         1\n",
      "$3,499         1\n",
      "$9,500         1\n",
      "$1,810         1\n",
      "$22            1\n",
      "$796           1\n",
      "$6,435         1\n",
      "$3,989         1\n",
      "$18,000        1\n",
      "$5,201         1\n",
      "Name:  Value, Length: 150, dtype: int64\n"
     ]
    }
   ],
   "source": [
    "print(jeopardy[\" Value\"].value_counts())"
   ]
  },
  {
   "cell_type": "code",
   "execution_count": null,
   "metadata": {},
   "outputs": [],
   "source": []
  }
 ],
 "metadata": {
  "kernelspec": {
   "display_name": "Python 3",
   "language": "python",
   "name": "python3"
  },
  "language_info": {
   "codemirror_mode": {
    "name": "ipython",
    "version": 3
   },
   "file_extension": ".py",
   "mimetype": "text/x-python",
   "name": "python",
   "nbconvert_exporter": "python",
   "pygments_lexer": "ipython3",
   "version": "3.5.2"
  }
 },
 "nbformat": 4,
 "nbformat_minor": 2
}

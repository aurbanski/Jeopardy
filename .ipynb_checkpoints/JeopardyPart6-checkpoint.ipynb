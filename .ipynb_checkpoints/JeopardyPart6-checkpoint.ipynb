{
 "cells": [
  {
   "cell_type": "code",
   "execution_count": 143,
   "metadata": {},
   "outputs": [],
   "source": [
    "from sklearn.feature_extraction.text import CountVectorizer\n",
    "from sklearn.model_selection import train_test_split\n",
    "from sklearn.feature_extraction.text import TfidfTransformer\n",
    "from sklearn.naive_bayes import MultinomialNB\n",
    "from sklearn.metrics import accuracy_score\n",
    "from sklearn.pipeline import Pipeline\n",
    "from sklearn.linear_model import SGDClassifier\n",
    "from sklearn.model_selection import GridSearchCV\n",
    "\n",
    "count_vect = CountVectorizer()\n",
    "X = youngfarmersonly[\" Question\"]\n",
    "y = youngfarmersonly[\" Value\"]\n",
    "# y = y.replace('None', 0, inplace=True)\n",
    "# y = y.apply(lambda x: str(x))\n",
    "# y = y.apply(lambda x: x.replace('$','')).apply(lambda x: x.replace(',','')).astype(np.int64)\n",
    "# y = pd.Series(y).where(lambda x : x.count())\n",
    "# print(y)\n",
    "X_train, X_test, y_train, y_test = train_test_split(X, y, test_size=.2)"
   ]
  },
  {
   "cell_type": "code",
   "execution_count": 144,
   "metadata": {},
   "outputs": [
    {
     "data": {
      "text/plain": [
       "(9391, 18485)"
      ]
     },
     "execution_count": 144,
     "metadata": {},
     "output_type": "execute_result"
    }
   ],
   "source": [
    "X_train_counts = count_vect.fit_transform(X_train)\n",
    "X_train_counts.shape"
   ]
  },
  {
   "cell_type": "code",
   "execution_count": 145,
   "metadata": {},
   "outputs": [
    {
     "data": {
      "text/plain": [
       "(9391, 18485)"
      ]
     },
     "execution_count": 145,
     "metadata": {},
     "output_type": "execute_result"
    }
   ],
   "source": [
    "tfidf_transformer = TfidfTransformer()\n",
    "X_train_tfidf = tfidf_transformer.fit_transform(X_train_counts)\n",
    "X_train_tfidf.shape"
   ]
  },
  {
   "cell_type": "code",
   "execution_count": 146,
   "metadata": {},
   "outputs": [],
   "source": [
    "clf = MultinomialNB().fit(X_train_tfidf, y_train)"
   ]
  },
  {
   "cell_type": "code",
   "execution_count": 147,
   "metadata": {},
   "outputs": [],
   "source": [
    "text_clf = Pipeline([('vect', CountVectorizer()),\n",
    "                     ('tfidf', TfidfTransformer()),\n",
    "                     ('clf', MultinomialNB())])\n",
    "text_clf = text_clf.fit(X_train, y_train)"
   ]
  },
  {
   "cell_type": "code",
   "execution_count": 148,
   "metadata": {},
   "outputs": [
    {
     "name": "stdout",
     "output_type": "stream",
     "text": [
      "13097      400\n",
      "97369      200\n",
      "176608     200\n",
      "23210      200\n",
      "157664     200\n",
      "184423     200\n",
      "106562     200\n",
      "152405     200\n",
      "152706     400\n",
      "213723     400\n",
      "177314     200\n",
      "126321     400\n",
      "148536     200\n",
      "31588      200\n",
      "200385     400\n",
      "76708      200\n",
      "117782     200\n",
      "38846      200\n",
      "210144     200\n",
      "187182     400\n",
      "184420     200\n",
      "124312     400\n",
      "205919     200\n",
      "28724     1000\n",
      "135687     400\n",
      "184125     200\n",
      "196359     800\n",
      "107224     400\n",
      "209724     200\n",
      "90705      400\n",
      "          ... \n",
      "59613      200\n",
      "99579      400\n",
      "160915     400\n",
      "11794      200\n",
      "193871     200\n",
      "49863      200\n",
      "190510     200\n",
      "142529     400\n",
      "26187      200\n",
      "146930     400\n",
      "21311      200\n",
      "166289     200\n",
      "17202      400\n",
      "188963     400\n",
      "196253     400\n",
      "110423     400\n",
      "1799       200\n",
      "91541      400\n",
      "143167     400\n",
      "102771     400\n",
      "145497     400\n",
      "153962     200\n",
      "142771     400\n",
      "198094     200\n",
      "201626     200\n",
      "48909      400\n",
      "35698      600\n",
      "11688      400\n",
      "27467      400\n",
      "8974       200\n",
      "Name:  Value, Length: 2348, dtype: int64\n"
     ]
    }
   ],
   "source": [
    "predicted = text_clf.predict(X_test)\n",
    "print(y_test)\n",
    "#print(predicted[1000])"
   ]
  },
  {
   "cell_type": "code",
   "execution_count": 149,
   "metadata": {},
   "outputs": [
    {
     "name": "stdout",
     "output_type": "stream",
     "text": [
      "0.510221465076661\n"
     ]
    }
   ],
   "source": [
    "print(accuracy_score(y_test, predicted))"
   ]
  },
  {
   "cell_type": "markdown",
   "metadata": {},
   "source": [
    "Accuracy for the bag of words with Naive Bayes is only 19% accurate which is worse than random guessing."
   ]
  },
  {
   "cell_type": "code",
   "execution_count": 150,
   "metadata": {},
   "outputs": [
    {
     "name": "stdout",
     "output_type": "stream",
     "text": [
      "0.5055366269165247\n"
     ]
    },
    {
     "name": "stderr",
     "output_type": "stream",
     "text": [
      "/Users/Rachel/anaconda2/lib/python2.7/site-packages/sklearn/linear_model/stochastic_gradient.py:117: DeprecationWarning: n_iter parameter is deprecated in 0.19 and will be removed in 0.21. Use max_iter and tol instead.\n",
      "  DeprecationWarning)\n"
     ]
    }
   ],
   "source": [
    "text_clf_svm = Pipeline([('vect', CountVectorizer()),\n",
    "                     ('tfidf', TfidfTransformer()),\n",
    "                     ('clf-svm', SGDClassifier(loss='hinge', alpha=1e-3, n_iter=5))])\n",
    "text_clf_svm = text_clf_svm.fit(X_train, y_train)\n",
    "predicted = text_clf_svm.predict(X_test)\n",
    "print(accuracy_score(y_test, predicted))"
   ]
  }
 ],
 "metadata": {
  "kernelspec": {
   "display_name": "Python 3",
   "language": "python",
   "name": "python3"
  },
  "language_info": {
   "codemirror_mode": {
    "name": "ipython",
    "version": 3
   },
   "file_extension": ".py",
   "mimetype": "text/x-python",
   "name": "python",
   "nbconvert_exporter": "python",
   "pygments_lexer": "ipython3",
   "version": "3.6.5"
  }
 },
 "nbformat": 4,
 "nbformat_minor": 2
}

{
 "cells": [
  {
   "cell_type": "code",
   "execution_count": 1,
   "metadata": {},
   "outputs": [],
   "source": [
    "import numpy as np\n",
    "import pandas as pd"
   ]
  },
  {
   "cell_type": "code",
   "execution_count": 2,
   "metadata": {},
   "outputs": [],
   "source": [
    "jeopardy = pd.read_csv(\"JEOPARDY_CSV.csv\")"
   ]
  },
  {
   "cell_type": "code",
   "execution_count": 3,
   "metadata": {},
   "outputs": [
    {
     "data": {
      "text/html": [
       "<div>\n",
       "<style scoped>\n",
       "    .dataframe tbody tr th:only-of-type {\n",
       "        vertical-align: middle;\n",
       "    }\n",
       "\n",
       "    .dataframe tbody tr th {\n",
       "        vertical-align: top;\n",
       "    }\n",
       "\n",
       "    .dataframe thead th {\n",
       "        text-align: right;\n",
       "    }\n",
       "</style>\n",
       "<table border=\"1\" class=\"dataframe\">\n",
       "  <thead>\n",
       "    <tr style=\"text-align: right;\">\n",
       "      <th></th>\n",
       "      <th>Show Number</th>\n",
       "      <th>Air Date</th>\n",
       "      <th>Round</th>\n",
       "      <th>Category</th>\n",
       "      <th>Value</th>\n",
       "      <th>Question</th>\n",
       "      <th>Answer</th>\n",
       "    </tr>\n",
       "  </thead>\n",
       "  <tbody>\n",
       "    <tr>\n",
       "      <th>0</th>\n",
       "      <td>4680</td>\n",
       "      <td>2004-12-31</td>\n",
       "      <td>Jeopardy!</td>\n",
       "      <td>HISTORY</td>\n",
       "      <td>$200</td>\n",
       "      <td>For the last 8 years of his life, Galileo was ...</td>\n",
       "      <td>Copernicus</td>\n",
       "    </tr>\n",
       "    <tr>\n",
       "      <th>1</th>\n",
       "      <td>4680</td>\n",
       "      <td>2004-12-31</td>\n",
       "      <td>Jeopardy!</td>\n",
       "      <td>ESPN's TOP 10 ALL-TIME ATHLETES</td>\n",
       "      <td>$200</td>\n",
       "      <td>No. 2: 1912 Olympian; football star at Carlisl...</td>\n",
       "      <td>Jim Thorpe</td>\n",
       "    </tr>\n",
       "    <tr>\n",
       "      <th>2</th>\n",
       "      <td>4680</td>\n",
       "      <td>2004-12-31</td>\n",
       "      <td>Jeopardy!</td>\n",
       "      <td>EVERYBODY TALKS ABOUT IT...</td>\n",
       "      <td>$200</td>\n",
       "      <td>The city of Yuma in this state has a record av...</td>\n",
       "      <td>Arizona</td>\n",
       "    </tr>\n",
       "    <tr>\n",
       "      <th>3</th>\n",
       "      <td>4680</td>\n",
       "      <td>2004-12-31</td>\n",
       "      <td>Jeopardy!</td>\n",
       "      <td>THE COMPANY LINE</td>\n",
       "      <td>$200</td>\n",
       "      <td>In 1963, live on \"The Art Linkletter Show\", th...</td>\n",
       "      <td>McDonald's</td>\n",
       "    </tr>\n",
       "    <tr>\n",
       "      <th>4</th>\n",
       "      <td>4680</td>\n",
       "      <td>2004-12-31</td>\n",
       "      <td>Jeopardy!</td>\n",
       "      <td>EPITAPHS &amp; TRIBUTES</td>\n",
       "      <td>$200</td>\n",
       "      <td>Signer of the Dec. of Indep., framer of the Co...</td>\n",
       "      <td>John Adams</td>\n",
       "    </tr>\n",
       "  </tbody>\n",
       "</table>\n",
       "</div>"
      ],
      "text/plain": [
       "   Show Number    Air Date      Round                         Category  Value  \\\n",
       "0         4680  2004-12-31  Jeopardy!                          HISTORY   $200   \n",
       "1         4680  2004-12-31  Jeopardy!  ESPN's TOP 10 ALL-TIME ATHLETES   $200   \n",
       "2         4680  2004-12-31  Jeopardy!      EVERYBODY TALKS ABOUT IT...   $200   \n",
       "3         4680  2004-12-31  Jeopardy!                 THE COMPANY LINE   $200   \n",
       "4         4680  2004-12-31  Jeopardy!              EPITAPHS & TRIBUTES   $200   \n",
       "\n",
       "                                            Question      Answer  \n",
       "0  For the last 8 years of his life, Galileo was ...  Copernicus  \n",
       "1  No. 2: 1912 Olympian; football star at Carlisl...  Jim Thorpe  \n",
       "2  The city of Yuma in this state has a record av...     Arizona  \n",
       "3  In 1963, live on \"The Art Linkletter Show\", th...  McDonald's  \n",
       "4  Signer of the Dec. of Indep., framer of the Co...  John Adams  "
      ]
     },
     "execution_count": 3,
     "metadata": {},
     "output_type": "execute_result"
    }
   ],
   "source": [
    "jeopardy.head()"
   ]
  },
  {
   "cell_type": "code",
   "execution_count": 4,
   "metadata": {},
   "outputs": [
    {
     "name": "stdout",
     "output_type": "stream",
     "text": [
      "['Show Number' ' Air Date' ' Round' ' Category' ' Value' ' Question'\n",
      " ' Answer']\n"
     ]
    }
   ],
   "source": [
    "print(jeopardy.columns.values)"
   ]
  },
  {
   "cell_type": "code",
   "execution_count": 5,
   "metadata": {},
   "outputs": [],
   "source": [
    "# print(jeopardy.keys)"
   ]
  },
  {
   "cell_type": "code",
   "execution_count": 6,
   "metadata": {},
   "outputs": [],
   "source": [
    "answer_column = jeopardy.loc[:, \" Answer\"]"
   ]
  },
  {
   "cell_type": "code",
   "execution_count": 7,
   "metadata": {},
   "outputs": [
    {
     "name": "stdout",
     "output_type": "stream",
     "text": [
      "<class 'pandas.core.frame.DataFrame'>\n",
      "RangeIndex: 216930 entries, 0 to 216929\n",
      "Data columns (total 7 columns):\n",
      "Show Number    216930 non-null int64\n",
      " Air Date      216930 non-null object\n",
      " Round         216930 non-null object\n",
      " Category      216930 non-null object\n",
      " Value         216930 non-null object\n",
      " Question      216930 non-null object\n",
      " Answer        216928 non-null object\n",
      "dtypes: int64(1), object(6)\n",
      "memory usage: 11.6+ MB\n",
      "None\n"
     ]
    }
   ],
   "source": [
    "print(jeopardy.info())"
   ]
  },
  {
   "cell_type": "code",
   "execution_count": 8,
   "metadata": {
    "scrolled": true
   },
   "outputs": [],
   "source": [
    "# print(answer_column)"
   ]
  },
  {
   "cell_type": "code",
   "execution_count": 9,
   "metadata": {},
   "outputs": [],
   "source": [
    "answer_counts = answer_column.value_counts()"
   ]
  },
  {
   "cell_type": "code",
   "execution_count": 10,
   "metadata": {
    "scrolled": true
   },
   "outputs": [],
   "source": [
    "# print(answer_counts)"
   ]
  },
  {
   "cell_type": "code",
   "execution_count": 11,
   "metadata": {},
   "outputs": [],
   "source": [
    "jeopardy[\" Value\"].replace(to_replace=\"None\", value=0, inplace=True)\n",
    "# print(jeopardy[\" Value\"])"
   ]
  },
  {
   "cell_type": "code",
   "execution_count": 12,
   "metadata": {},
   "outputs": [],
   "source": [
    "jeopardy[\" Value\"] = jeopardy[\" Value\"].apply(lambda x: str(x))\n",
    "jeopardy[\" Value\"] = jeopardy[\" Value\"].apply(lambda x: x.replace('$','')).apply(lambda x: x.replace(',','')).astype(np.int64)\n",
    "# print(dict(jeopardy[\" Value\"].value_counts()))\n",
    "jeopardy['count'] = jeopardy.groupby(' Value')[' Value'].transform(pd.Series.value_counts)\n",
    "# print(dict(jeopardy[\" Value\"].value_counts())[jeopardy[\" Value\"]])"
   ]
  },
  {
   "cell_type": "code",
   "execution_count": 13,
   "metadata": {},
   "outputs": [
    {
     "name": "stdout",
     "output_type": "stream",
     "text": [
      "   Show Number    Air Date      Round                         Category  \\\n",
      "0         4680  2004-12-31  Jeopardy!                          HISTORY   \n",
      "1         4680  2004-12-31  Jeopardy!  ESPN's TOP 10 ALL-TIME ATHLETES   \n",
      "2         4680  2004-12-31  Jeopardy!      EVERYBODY TALKS ABOUT IT...   \n",
      "3         4680  2004-12-31  Jeopardy!                 THE COMPANY LINE   \n",
      "4         4680  2004-12-31  Jeopardy!              EPITAPHS & TRIBUTES   \n",
      "\n",
      "    Value                                           Question      Answer  \\\n",
      "0     200  For the last 8 years of his life, Galileo was ...  Copernicus   \n",
      "1     200  No. 2: 1912 Olympian; football star at Carlisl...  Jim Thorpe   \n",
      "2     200  The city of Yuma in this state has a record av...     Arizona   \n",
      "3     200  In 1963, live on \"The Art Linkletter Show\", th...  McDonald's   \n",
      "4     200  Signer of the Dec. of Indep., framer of the Co...  John Adams   \n",
      "\n",
      "   count  \n",
      "0  30455  \n",
      "1  30455  \n",
      "2  30455  \n",
      "3  30455  \n",
      "4  30455  \n",
      "    Show Number    Air Date      Round                         Category  \\\n",
      "0          4680  2004-12-31  Jeopardy!                          HISTORY   \n",
      "1          4680  2004-12-31  Jeopardy!  ESPN's TOP 10 ALL-TIME ATHLETES   \n",
      "2          4680  2004-12-31  Jeopardy!      EVERYBODY TALKS ABOUT IT...   \n",
      "3          4680  2004-12-31  Jeopardy!                 THE COMPANY LINE   \n",
      "4          4680  2004-12-31  Jeopardy!              EPITAPHS & TRIBUTES   \n",
      "5          4680  2004-12-31  Jeopardy!                   3-LETTER WORDS   \n",
      "6          4680  2004-12-31  Jeopardy!                          HISTORY   \n",
      "7          4680  2004-12-31  Jeopardy!  ESPN's TOP 10 ALL-TIME ATHLETES   \n",
      "8          4680  2004-12-31  Jeopardy!      EVERYBODY TALKS ABOUT IT...   \n",
      "9          4680  2004-12-31  Jeopardy!                 THE COMPANY LINE   \n",
      "10         4680  2004-12-31  Jeopardy!              EPITAPHS & TRIBUTES   \n",
      "11         4680  2004-12-31  Jeopardy!                   3-LETTER WORDS   \n",
      "12         4680  2004-12-31  Jeopardy!                          HISTORY   \n",
      "13         4680  2004-12-31  Jeopardy!  ESPN's TOP 10 ALL-TIME ATHLETES   \n",
      "14         4680  2004-12-31  Jeopardy!      EVERYBODY TALKS ABOUT IT...   \n",
      "15         4680  2004-12-31  Jeopardy!                 THE COMPANY LINE   \n",
      "16         4680  2004-12-31  Jeopardy!              EPITAPHS & TRIBUTES   \n",
      "17         4680  2004-12-31  Jeopardy!                   3-LETTER WORDS   \n",
      "18         4680  2004-12-31  Jeopardy!                          HISTORY   \n",
      "19         4680  2004-12-31  Jeopardy!  ESPN's TOP 10 ALL-TIME ATHLETES   \n",
      "\n",
      "     Value                                           Question  \\\n",
      "0      200  For the last 8 years of his life, Galileo was ...   \n",
      "1      200  No. 2: 1912 Olympian; football star at Carlisl...   \n",
      "2      200  The city of Yuma in this state has a record av...   \n",
      "3      200  In 1963, live on \"The Art Linkletter Show\", th...   \n",
      "4      200  Signer of the Dec. of Indep., framer of the Co...   \n",
      "5      200  In the title of an Aesop fable, this insect sh...   \n",
      "6      400  Built in 312 B.C. to link Rome & the South of ...   \n",
      "7      400  No. 8: 30 steals for the Birmingham Barons; 2,...   \n",
      "8      400  In the winter of 1971-72, a record 1,122 inche...   \n",
      "9      400  This housewares store was named for the packag...   \n",
      "10     400                                   \"And away we go\"   \n",
      "11     400  Cows regurgitate this from the first stomach t...   \n",
      "12     600  In 1000 Rajaraja I of the Cholas battled to ta...   \n",
      "13     600  No. 1: Lettered in hoops, football & lacrosse ...   \n",
      "14     600  On June 28, 1994 the nat'l weather service beg...   \n",
      "15     600  This company's Accutron watch, introduced in 1...   \n",
      "16     600  Outlaw: \"Murdered by a traitor and a coward wh...   \n",
      "17     600  A small demon, or a mischievous child (who mig...   \n",
      "18     800  Karl led the first of these Marxist organizati...   \n",
      "19     800  No. 10: FB/LB for Columbia U. in the 1920s; MV...   \n",
      "\n",
      "                   Answer  count  \n",
      "0              Copernicus  30455  \n",
      "1              Jim Thorpe  30455  \n",
      "2                 Arizona  30455  \n",
      "3              McDonald's  30455  \n",
      "4              John Adams  30455  \n",
      "5                 the ant  30455  \n",
      "6          the Appian Way  42244  \n",
      "7          Michael Jordan  42244  \n",
      "8              Washington  42244  \n",
      "9          Crate & Barrel  42244  \n",
      "10         Jackie Gleason  42244  \n",
      "11                the cud  42244  \n",
      "12  Ceylon (or Sri Lanka)  20377  \n",
      "13              Jim Brown  20377  \n",
      "14           the UV index  20377  \n",
      "15                 Bulova  20377  \n",
      "16            Jesse James  20377  \n",
      "17                    imp  20377  \n",
      "18      the International  31860  \n",
      "19           (Lou) Gehrig  31860  \n"
     ]
    }
   ],
   "source": [
    "print(jeopardy.head())\n",
    "jeopardy = jeopardy[jeopardy['count'] > 1000]\n",
    "print(jeopardy.head(20))"
   ]
  },
  {
   "cell_type": "code",
   "execution_count": 14,
   "metadata": {},
   "outputs": [
    {
     "name": "stdout",
     "output_type": "stream",
     "text": [
      "['HISTORY' \"ESPN's TOP 10 ALL-TIME ATHLETES\" 'EVERYBODY TALKS ABOUT IT...'\n",
      " ... 'OFF-BROADWAY' 'RIDDLE ME THIS' 'AUTHORS IN THEIR YOUTH']\n"
     ]
    }
   ],
   "source": [
    "unique_categories = jeopardy[\" Category\"].unique()\n",
    "print(unique_categories)"
   ]
  },
  {
   "cell_type": "code",
   "execution_count": 15,
   "metadata": {},
   "outputs": [],
   "source": [
    "unique_series = pd.DataFrame({\"Category\": unique_categories})"
   ]
  },
  {
   "cell_type": "code",
   "execution_count": 16,
   "metadata": {
    "scrolled": true
   },
   "outputs": [
    {
     "name": "stdout",
     "output_type": "stream",
     "text": [
      "                               Category\n",
      "0                               HISTORY\n",
      "1       ESPN's TOP 10 ALL-TIME ATHLETES\n",
      "2           EVERYBODY TALKS ABOUT IT...\n",
      "3                      THE COMPANY LINE\n",
      "4                   EPITAPHS & TRIBUTES\n",
      "5                        3-LETTER WORDS\n",
      "6            DR. SEUSS AT THE MULTIPLEX\n",
      "7          PRESIDENTIAL STATES OF BIRTH\n",
      "8                        AIRLINE TRAVEL\n",
      "9                THAT OLD-TIME RELIGION\n",
      "10                       MUSICAL TRAINS\n",
      "11                          \"X\"s & \"O\"s\n",
      "12                     THE SOLAR SYSTEM\n",
      "13                        GEOGRAPHY \"E\"\n",
      "14                         RADIO DISNEY\n",
      "15                       PARTS OF PEACH\n",
      "16               BE FRUITFUL & MULTIPLY\n",
      "17                         LET'S BOUNCE\n",
      "18                    RHYMES WITH SMART\n",
      "19                        SCIENCE CLASS\n",
      "20                       KIDS IN SPORTS\n",
      "21                       JUST THE FACTS\n",
      "22                            SEE & SAY\n",
      "23                           NEWS TO ME\n",
      "24                    IN THE DICTIONARY\n",
      "25                       HISTORIC WOMEN\n",
      "26               ROYAL FEMALE NICKNAMES\n",
      "27                    TV ACTORS & ROLES\n",
      "28                     TRAVEL & TOURISM\n",
      "29                             \"I\" LADS\n",
      "...                                 ...\n",
      "27964  MAJOR LEAGUE BASEBALL TEAM NAMES\n",
      "27965            THE AMERICAN RED CROSS\n",
      "27966                     SOCCER TO US!\n",
      "27967          BASKIN ROBBINS ICE CREAM\n",
      "27968                         WOODWINDS\n",
      "27969                    LANGUAGE CRAFT\n",
      "27970                        OFF-LIMITS\n",
      "27971                           X-RATED\n",
      "27972                      RACE-Y HUMOR\n",
      "27973                       YOUR MOMMA!\n",
      "27974                       CURSE WORDS\n",
      "27975                       SKYSCRAPERS\n",
      "27976                 SPOKES-CHARACTERS\n",
      "27977                   IT'S A MONARCHY\n",
      "27978                       SIGNING OFF\n",
      "27979               WAR MOVIE LOCATIONS\n",
      "27980              \"U\"-ENDING CREATURES\n",
      "27981          TALES OF E.T.A. HOFFMANN\n",
      "27982                 NATIONAL CAPITALS\n",
      "27983                PEOPLE YOU CAN EAT\n",
      "27984              DUMB DOWN THE SIMILE\n",
      "27985                  HAIL TO THE CHEF\n",
      "27986                GEOGRAPHICAL BANDS\n",
      "27987                   MEDICAL DEVICES\n",
      "27988             ABRAHAM, ISAAC, JACOB\n",
      "27989              LOVE SONGS IN GERMAN\n",
      "27990               FIRST IN OUR HEARTS\n",
      "27991                      OFF-BROADWAY\n",
      "27992                    RIDDLE ME THIS\n",
      "27993            AUTHORS IN THEIR YOUTH\n",
      "\n",
      "[27994 rows x 1 columns]\n"
     ]
    }
   ],
   "source": [
    "print(unique_series)"
   ]
  },
  {
   "cell_type": "code",
   "execution_count": 17,
   "metadata": {},
   "outputs": [
    {
     "name": "stdout",
     "output_type": "stream",
     "text": [
      "BEFORE & AFTER                    540\n",
      "SCIENCE                           500\n",
      "LITERATURE                        486\n",
      "AMERICAN HISTORY                  410\n",
      "POTPOURRI                         401\n",
      "WORLD HISTORY                     365\n",
      "WORD ORIGINS                      361\n",
      "COLLEGES & UNIVERSITIES           343\n",
      "HISTORY                           342\n",
      "SPORTS                            339\n",
      "U.S. CITIES                       332\n",
      "WORLD GEOGRAPHY                   324\n",
      "ANIMALS                           323\n",
      "BODIES OF WATER                   321\n",
      "STATE CAPITALS                    307\n",
      "BUSINESS & INDUSTRY               306\n",
      "ISLANDS                           292\n",
      "U.S. GEOGRAPHY                    290\n",
      "WORLD CAPITALS                    287\n",
      "RELIGION                          286\n",
      "OPERA                             281\n",
      "SHAKESPEARE                       281\n",
      "TELEVISION                        279\n",
      "RHYME TIME                        276\n",
      "PEOPLE                            276\n",
      "TRANSPORTATION                    275\n",
      "BALLET                            275\n",
      "FICTIONAL CHARACTERS              275\n",
      "LANGUAGES                         273\n",
      "STUPID ANSWERS                    270\n",
      "                                 ... \n",
      "AMERICAN BALLET                     1\n",
      "FOOD LORE                           1\n",
      "OLYMPIC HOST COUNTRIES              1\n",
      "WORLD MONEY 2005                    1\n",
      "RULERS IN HISTORY                   1\n",
      "PENINSULAR NATIONS                  1\n",
      "IRISH-BORN AUTHORS                  1\n",
      "ANCIENT BIOGRAPHERS                 1\n",
      "SLANG TERM ORIGINS                  1\n",
      "ENGLISH LITERARY HISTORY            1\n",
      "POLITICAL JARGON                    1\n",
      "SHAKESPEAREAN TITLE CHARACTERS      1\n",
      "U.S. SENATE HISTORY                 1\n",
      "DOCUMENTARY SUBJECTS                1\n",
      "DIPLOMATIC RELATIONS                1\n",
      "GARMENTS OF THE WORLD               1\n",
      "SPORTS BUSINESS                     1\n",
      "VARIETY HEADLINES                   1\n",
      "NEWSPAPER PEOPLE                    1\n",
      "MAP READING                         1\n",
      "THE U.S. GOVERNMENT                 1\n",
      "NOVEMBER                            1\n",
      "POLITICAL NAMES                     1\n",
      "WORLD ORGANIZATIONS                 1\n",
      "ROSE BOWL HISTORY                   1\n",
      "19th CENTURY SPEECHES               1\n",
      "NATIONAL HOLIDAYS                   1\n",
      "19th CENTURY POLITICS               1\n",
      "EUROPEAN LANDMARKS                  1\n",
      "LITERARY TITLE ADJECTIVES           1\n",
      "Name:  Category, Length: 27994, dtype: int64\n"
     ]
    }
   ],
   "source": [
    "category_column = jeopardy[\" Category\"]\n",
    "category_counts = category_column.value_counts()\n",
    "print(category_counts)"
   ]
  },
  {
   "cell_type": "code",
   "execution_count": 18,
   "metadata": {},
   "outputs": [
    {
     "name": "stdout",
     "output_type": "stream",
     "text": [
      "[('GIRLS IN SONG', 11), ('LINGUISTICS', 5), ('NEW ORLEANS & KATRINA', 5), ('QUICK LIT', 10), ('LIGHTS, CAMERA, ACTION MOVIE', 5), ('AUCTION PACKED', 5), ('TASTY AD SLOGANS', 5), ('THE TENTH INNING', 5), (\"MOTHER NATURE'S STRANGE IDEAS\", 5), ('PIE-POURRI', 5), ('THE FILM THAT ALMOST WAS', 5), ('LAST', 5), ('\"EU\" FIRST', 5), ('NATIVE AMERICAN TRIBES', 20), ('COLORFUL RHYME TIME', 30), ('WHEN PUSHKIN COMES TO SHOVE', 4), ('PRESIDENT GEORGE W. BUSH', 5), ('1909: 100 YEARS AGO', 5), ('AT WIDE RECEIVER FOR THIS TEAM...', 5), ('FAMOUS COMEDY TEAMS', 5), ('1997 FILMS', 1), ('GOOD BOOKS', 5), ('GEOGRAPHY IN LITERATURE', 1), ('WINNIE', 4), ('GOOD BAD GUYS ON TV', 5), ('CANADIAN FLAGS', 4), ('RACE-Y HUMOR', 3), ('SINGING THE BLUES', 4), ('JOHANNES BRAHMS', 5), ('ASSETS', 5), ('ANIMALS, VEGETABLES, MINERALS', 4), ('4-LETTER COUNTRIES', 5), ('U.S. TRANSPORTATION', 1), ('TECHIES', 5), ('FIRST & LAST', 5), ('THE SISTINE CHAPEL', 5), ('LIKE A HURRICANE', 4), ('SIX FEET UNDER', 4), ('SPORTS STATUES', 4), ('HOMINA HOMINA HOMONYMS', 5), ('IT BEGINS WITH \"X\"', 5), ('HOMETOWNS', 5), ('\"OLD\" ENGLAND', 5), ('MOST POPULAR BABY NAMES BY YEAR', 5), ('A MAN CALLED HARRIS', 5), ('EGYPTIAN FILM FESTIVAL', 5), ('GEE, YOUR HOUSE SMELLS NICE', 5), ('SHAKESPEAREAN OPERAS', 10), ('EXPLORERS IN SCIENCE', 5), ('THEY OUGHT TO MAKE A MOVIE', 5)]\n"
     ]
    }
   ],
   "source": [
    "# print(category_counts[\"BEFORE & AFTER\"])\n",
    "cat_counts_dict = category_counts.to_dict()\n",
    "# print(cat_counts_dict.items())\n",
    "cat_counts_list = list(cat_counts_dict.items())\n",
    "results = cat_counts_list[0:50]\n",
    "print(results)"
   ]
  },
  {
   "cell_type": "markdown",
   "metadata": {},
   "source": [
    "## Bag Of Words Prediction"
   ]
  },
  {
   "cell_type": "code",
   "execution_count": 19,
   "metadata": {},
   "outputs": [],
   "source": [
    "from sklearn.feature_extraction.text import CountVectorizer\n",
    "from sklearn.model_selection import train_test_split\n",
    "from sklearn.feature_extraction.text import TfidfTransformer\n",
    "from sklearn.naive_bayes import MultinomialNB\n",
    "from sklearn.metrics import accuracy_score\n",
    "from sklearn.pipeline import Pipeline\n",
    "from sklearn.linear_model import SGDClassifier\n",
    "from sklearn.model_selection import GridSearchCV\n",
    "\n",
    "count_vect = CountVectorizer()\n",
    "X = jeopardy[\" Question\"]\n",
    "y = jeopardy[\" Value\"]\n",
    "# y = y.replace('None', 0, inplace=True)\n",
    "# y = y.apply(lambda x: str(x))\n",
    "# y = y.apply(lambda x: x.replace('$','')).apply(lambda x: x.replace(',','')).astype(np.int64)\n",
    "# y = pd.Series(y).where(lambda x : x.count())\n",
    "# print(y)\n",
    "X_train, X_test, y_train, y_test = train_test_split(X, y, test_size=.2)"
   ]
  },
  {
   "cell_type": "code",
   "execution_count": 20,
   "metadata": {},
   "outputs": [
    {
     "data": {
      "text/plain": [
       "(170047, 81845)"
      ]
     },
     "execution_count": 20,
     "metadata": {},
     "output_type": "execute_result"
    }
   ],
   "source": [
    "X_train_counts = count_vect.fit_transform(X_train)\n",
    "X_train_counts.shape"
   ]
  },
  {
   "cell_type": "code",
   "execution_count": 21,
   "metadata": {},
   "outputs": [
    {
     "data": {
      "text/plain": [
       "(170047, 81845)"
      ]
     },
     "execution_count": 21,
     "metadata": {},
     "output_type": "execute_result"
    }
   ],
   "source": [
    "tfidf_transformer = TfidfTransformer()\n",
    "X_train_tfidf = tfidf_transformer.fit_transform(X_train_counts)\n",
    "X_train_tfidf.shape"
   ]
  },
  {
   "cell_type": "code",
   "execution_count": 22,
   "metadata": {},
   "outputs": [],
   "source": [
    "clf = MultinomialNB().fit(X_train_tfidf, y_train)"
   ]
  },
  {
   "cell_type": "code",
   "execution_count": 23,
   "metadata": {},
   "outputs": [],
   "source": [
    "text_clf = Pipeline([('vect', CountVectorizer()),\n",
    "                     ('tfidf', TfidfTransformer()),\n",
    "                     ('clf', MultinomialNB())])\n",
    "text_clf = text_clf.fit(X_train, y_train)"
   ]
  },
  {
   "cell_type": "code",
   "execution_count": 24,
   "metadata": {},
   "outputs": [],
   "source": [
    "predicted = text_clf.predict(X_test)"
   ]
  },
  {
   "cell_type": "code",
   "execution_count": 25,
   "metadata": {},
   "outputs": [
    {
     "name": "stdout",
     "output_type": "stream",
     "text": [
      "0.19723842679713963\n"
     ]
    }
   ],
   "source": [
    "print(accuracy_score(y_test, predicted))"
   ]
  },
  {
   "cell_type": "markdown",
   "metadata": {},
   "source": [
    "Accuracy for the bag of words with Naive Bayes is only 19% accurate which is worse than random guessing."
   ]
  },
  {
   "cell_type": "code",
   "execution_count": 26,
   "metadata": {},
   "outputs": [
    {
     "name": "stderr",
     "output_type": "stream",
     "text": [
      "/Users/Rachel/anaconda2/lib/python2.7/site-packages/sklearn/linear_model/stochastic_gradient.py:117: DeprecationWarning: n_iter parameter is deprecated in 0.19 and will be removed in 0.21. Use max_iter and tol instead.\n",
      "  DeprecationWarning)\n"
     ]
    },
    {
     "name": "stdout",
     "output_type": "stream",
     "text": [
      "0.14718197214904027\n"
     ]
    }
   ],
   "source": [
    "text_clf_svm = Pipeline([('vect', CountVectorizer()),\n",
    "                     ('tfidf', TfidfTransformer()),\n",
    "                     ('clf-svm', SGDClassifier(loss='hinge', alpha=1e-3, n_iter=5))])\n",
    "text_clf_svm = text_clf_svm.fit(X_train, y_train)\n",
    "predicted = text_clf_svm.predict(X_test)\n",
    "print(accuracy_score(y_test, predicted))"
   ]
  },
  {
   "cell_type": "markdown",
   "metadata": {},
   "source": [
    "If we try to use support vector machine, we actually get even worse prediction results."
   ]
  },
  {
   "cell_type": "code",
   "execution_count": null,
   "metadata": {},
   "outputs": [],
   "source": []
  },
  {
   "cell_type": "code",
   "execution_count": 27,
   "metadata": {},
   "outputs": [
    {
     "ename": "JoblibValueError",
     "evalue": "JoblibValueError\n___________________________________________________________________________\nMultiprocessing exception:\n...........................................................................\n/Users/Rachel/anaconda2/lib/python2.7/runpy.py in _run_module_as_main(mod_name='ipykernel_launcher', alter_argv=1)\n    169     pkg_name = mod_name.rpartition('.')[0]\n    170     main_globals = sys.modules[\"__main__\"].__dict__\n    171     if alter_argv:\n    172         sys.argv[0] = fname\n    173     return _run_code(code, main_globals, None,\n--> 174                      \"__main__\", fname, loader, pkg_name)\n        fname = '/Users/Rachel/anaconda2/lib/python2.7/site-packages/ipykernel_launcher.py'\n        loader = <pkgutil.ImpLoader instance>\n        pkg_name = ''\n    175 \n    176 def run_module(mod_name, init_globals=None,\n    177                run_name=None, alter_sys=False):\n    178     \"\"\"Execute a module's code without importing it\n\n...........................................................................\n/Users/Rachel/anaconda2/lib/python2.7/runpy.py in _run_code(code=<code object <module> at 0x10a7c62b0, file \"/Use...2.7/site-packages/ipykernel_launcher.py\", line 5>, run_globals={'__builtins__': <module '__builtin__' (built-in)>, '__doc__': 'Entry point for launching an IPython kernel.\\n\\nTh...orts until\\nafter removing the cwd from sys.path.\\n', '__file__': '/Users/Rachel/anaconda2/lib/python2.7/site-packages/ipykernel_launcher.py', '__loader__': <pkgutil.ImpLoader instance>, '__name__': '__main__', '__package__': '', 'app': <module 'ipykernel.kernelapp' from '/Users/Rache...python2.7/site-packages/ipykernel/kernelapp.pyc'>, 'sys': <module 'sys' (built-in)>}, init_globals=None, mod_name='__main__', mod_fname='/Users/Rachel/anaconda2/lib/python2.7/site-packages/ipykernel_launcher.py', mod_loader=<pkgutil.ImpLoader instance>, pkg_name='')\n     67         run_globals.update(init_globals)\n     68     run_globals.update(__name__ = mod_name,\n     69                        __file__ = mod_fname,\n     70                        __loader__ = mod_loader,\n     71                        __package__ = pkg_name)\n---> 72     exec code in run_globals\n        code = <code object <module> at 0x10a7c62b0, file \"/Use...2.7/site-packages/ipykernel_launcher.py\", line 5>\n        run_globals = {'__builtins__': <module '__builtin__' (built-in)>, '__doc__': 'Entry point for launching an IPython kernel.\\n\\nTh...orts until\\nafter removing the cwd from sys.path.\\n', '__file__': '/Users/Rachel/anaconda2/lib/python2.7/site-packages/ipykernel_launcher.py', '__loader__': <pkgutil.ImpLoader instance>, '__name__': '__main__', '__package__': '', 'app': <module 'ipykernel.kernelapp' from '/Users/Rache...python2.7/site-packages/ipykernel/kernelapp.pyc'>, 'sys': <module 'sys' (built-in)>}\n     73     return run_globals\n     74 \n     75 def _run_module_code(code, init_globals=None,\n     76                     mod_name=None, mod_fname=None,\n\n...........................................................................\n/Users/Rachel/anaconda2/lib/python2.7/site-packages/ipykernel_launcher.py in <module>()\n     11     # This is added back by InteractiveShellApp.init_path()\n     12     if sys.path[0] == '':\n     13         del sys.path[0]\n     14 \n     15     from ipykernel import kernelapp as app\n---> 16     app.launch_new_instance()\n\n...........................................................................\n/Users/Rachel/anaconda2/lib/python2.7/site-packages/traitlets/config/application.py in launch_instance(cls=<class 'ipykernel.kernelapp.IPKernelApp'>, argv=None, **kwargs={})\n    653 \n    654         If a global instance already exists, this reinitializes and starts it\n    655         \"\"\"\n    656         app = cls.instance(**kwargs)\n    657         app.initialize(argv)\n--> 658         app.start()\n        app.start = <bound method IPKernelApp.start of <ipykernel.kernelapp.IPKernelApp object>>\n    659 \n    660 #-----------------------------------------------------------------------------\n    661 # utility functions, for convenience\n    662 #-----------------------------------------------------------------------------\n\n...........................................................................\n/Users/Rachel/anaconda2/lib/python2.7/site-packages/ipykernel/kernelapp.py in start(self=<ipykernel.kernelapp.IPKernelApp object>)\n    473         if self.poller is not None:\n    474             self.poller.start()\n    475         self.kernel.start()\n    476         self.io_loop = ioloop.IOLoop.current()\n    477         try:\n--> 478             self.io_loop.start()\n        self.io_loop.start = <bound method ZMQIOLoop.start of <zmq.eventloop.ioloop.ZMQIOLoop object>>\n    479         except KeyboardInterrupt:\n    480             pass\n    481 \n    482 launch_new_instance = IPKernelApp.launch_instance\n\n...........................................................................\n/Users/Rachel/anaconda2/lib/python2.7/site-packages/zmq/eventloop/ioloop.py in start(self=<zmq.eventloop.ioloop.ZMQIOLoop object>)\n    172             )\n    173         return loop\n    174     \n    175     def start(self):\n    176         try:\n--> 177             super(ZMQIOLoop, self).start()\n        self.start = <bound method ZMQIOLoop.start of <zmq.eventloop.ioloop.ZMQIOLoop object>>\n    178         except ZMQError as e:\n    179             if e.errno == ETERM:\n    180                 # quietly return on ETERM\n    181                 pass\n\n...........................................................................\n/Users/Rachel/anaconda2/lib/python2.7/site-packages/tornado/ioloop.py in start(self=<zmq.eventloop.ioloop.ZMQIOLoop object>)\n    883                 self._events.update(event_pairs)\n    884                 while self._events:\n    885                     fd, events = self._events.popitem()\n    886                     try:\n    887                         fd_obj, handler_func = self._handlers[fd]\n--> 888                         handler_func(fd_obj, events)\n        handler_func = <function null_wrapper>\n        fd_obj = <zmq.sugar.socket.Socket object>\n        events = 5\n    889                     except (OSError, IOError) as e:\n    890                         if errno_from_exception(e) == errno.EPIPE:\n    891                             # Happens when the client closes the connection\n    892                             pass\n\n...........................................................................\n/Users/Rachel/anaconda2/lib/python2.7/site-packages/tornado/stack_context.py in null_wrapper(*args=(<zmq.sugar.socket.Socket object>, 5), **kwargs={})\n    272         # Fast path when there are no active contexts.\n    273         def null_wrapper(*args, **kwargs):\n    274             try:\n    275                 current_state = _state.contexts\n    276                 _state.contexts = cap_contexts[0]\n--> 277                 return fn(*args, **kwargs)\n        args = (<zmq.sugar.socket.Socket object>, 5)\n        kwargs = {}\n    278             finally:\n    279                 _state.contexts = current_state\n    280         null_wrapper._wrapped = True\n    281         return null_wrapper\n\n...........................................................................\n/Users/Rachel/anaconda2/lib/python2.7/site-packages/zmq/eventloop/zmqstream.py in _handle_events(self=<zmq.eventloop.zmqstream.ZMQStream object>, fd=<zmq.sugar.socket.Socket object>, events=5)\n    435             # dispatch events:\n    436             if events & IOLoop.ERROR:\n    437                 gen_log.error(\"got POLLERR event on ZMQStream, which doesn't make sense\")\n    438                 return\n    439             if events & IOLoop.READ:\n--> 440                 self._handle_recv()\n        self._handle_recv = <bound method ZMQStream._handle_recv of <zmq.eventloop.zmqstream.ZMQStream object>>\n    441                 if not self.socket:\n    442                     return\n    443             if events & IOLoop.WRITE:\n    444                 self._handle_send()\n\n...........................................................................\n/Users/Rachel/anaconda2/lib/python2.7/site-packages/zmq/eventloop/zmqstream.py in _handle_recv(self=<zmq.eventloop.zmqstream.ZMQStream object>)\n    467                 gen_log.error(\"RECV Error: %s\"%zmq.strerror(e.errno))\n    468         else:\n    469             if self._recv_callback:\n    470                 callback = self._recv_callback\n    471                 # self._recv_callback = None\n--> 472                 self._run_callback(callback, msg)\n        self._run_callback = <bound method ZMQStream._run_callback of <zmq.eventloop.zmqstream.ZMQStream object>>\n        callback = <function null_wrapper>\n        msg = [<zmq.sugar.frame.Frame object>, <zmq.sugar.frame.Frame object>, <zmq.sugar.frame.Frame object>, <zmq.sugar.frame.Frame object>, <zmq.sugar.frame.Frame object>, <zmq.sugar.frame.Frame object>, <zmq.sugar.frame.Frame object>]\n    473                 \n    474         # self.update_state()\n    475         \n    476 \n\n...........................................................................\n/Users/Rachel/anaconda2/lib/python2.7/site-packages/zmq/eventloop/zmqstream.py in _run_callback(self=<zmq.eventloop.zmqstream.ZMQStream object>, callback=<function null_wrapper>, *args=([<zmq.sugar.frame.Frame object>, <zmq.sugar.frame.Frame object>, <zmq.sugar.frame.Frame object>, <zmq.sugar.frame.Frame object>, <zmq.sugar.frame.Frame object>, <zmq.sugar.frame.Frame object>, <zmq.sugar.frame.Frame object>],), **kwargs={})\n    409         close our socket.\"\"\"\n    410         try:\n    411             # Use a NullContext to ensure that all StackContexts are run\n    412             # inside our blanket exception handler rather than outside.\n    413             with stack_context.NullContext():\n--> 414                 callback(*args, **kwargs)\n        callback = <function null_wrapper>\n        args = ([<zmq.sugar.frame.Frame object>, <zmq.sugar.frame.Frame object>, <zmq.sugar.frame.Frame object>, <zmq.sugar.frame.Frame object>, <zmq.sugar.frame.Frame object>, <zmq.sugar.frame.Frame object>, <zmq.sugar.frame.Frame object>],)\n        kwargs = {}\n    415         except:\n    416             gen_log.error(\"Uncaught exception, closing connection.\",\n    417                           exc_info=True)\n    418             # Close the socket on an uncaught exception from a user callback\n\n...........................................................................\n/Users/Rachel/anaconda2/lib/python2.7/site-packages/tornado/stack_context.py in null_wrapper(*args=([<zmq.sugar.frame.Frame object>, <zmq.sugar.frame.Frame object>, <zmq.sugar.frame.Frame object>, <zmq.sugar.frame.Frame object>, <zmq.sugar.frame.Frame object>, <zmq.sugar.frame.Frame object>, <zmq.sugar.frame.Frame object>],), **kwargs={})\n    272         # Fast path when there are no active contexts.\n    273         def null_wrapper(*args, **kwargs):\n    274             try:\n    275                 current_state = _state.contexts\n    276                 _state.contexts = cap_contexts[0]\n--> 277                 return fn(*args, **kwargs)\n        args = ([<zmq.sugar.frame.Frame object>, <zmq.sugar.frame.Frame object>, <zmq.sugar.frame.Frame object>, <zmq.sugar.frame.Frame object>, <zmq.sugar.frame.Frame object>, <zmq.sugar.frame.Frame object>, <zmq.sugar.frame.Frame object>],)\n        kwargs = {}\n    278             finally:\n    279                 _state.contexts = current_state\n    280         null_wrapper._wrapped = True\n    281         return null_wrapper\n\n...........................................................................\n/Users/Rachel/anaconda2/lib/python2.7/site-packages/ipykernel/kernelbase.py in dispatcher(msg=[<zmq.sugar.frame.Frame object>, <zmq.sugar.frame.Frame object>, <zmq.sugar.frame.Frame object>, <zmq.sugar.frame.Frame object>, <zmq.sugar.frame.Frame object>, <zmq.sugar.frame.Frame object>, <zmq.sugar.frame.Frame object>])\n    278         if self.control_stream:\n    279             self.control_stream.on_recv(self.dispatch_control, copy=False)\n    280 \n    281         def make_dispatcher(stream):\n    282             def dispatcher(msg):\n--> 283                 return self.dispatch_shell(stream, msg)\n        msg = [<zmq.sugar.frame.Frame object>, <zmq.sugar.frame.Frame object>, <zmq.sugar.frame.Frame object>, <zmq.sugar.frame.Frame object>, <zmq.sugar.frame.Frame object>, <zmq.sugar.frame.Frame object>, <zmq.sugar.frame.Frame object>]\n    284             return dispatcher\n    285 \n    286         for s in self.shell_streams:\n    287             s.on_recv(make_dispatcher(s), copy=False)\n\n...........................................................................\n/Users/Rachel/anaconda2/lib/python2.7/site-packages/ipykernel/kernelbase.py in dispatch_shell(self=<ipykernel.ipkernel.IPythonKernel object>, stream=<zmq.eventloop.zmqstream.ZMQStream object>, msg={'buffers': [], 'content': {u'allow_stdin': True, u'code': u'parameters = {\\'vect_ngram_range\\': [(1,1), (1..._jobs=-1)\\ngs_clf = gs_clf.fit(X_train, y_train)', u'silent': False, u'stop_on_error': True, u'store_history': True, u'user_expressions': {}}, 'header': {u'date': datetime.datetime(2018, 5, 5, 3, 22, 17, 337943, tzinfo=tzutc()), u'msg_id': u'c83fe2c3268f4f68afc53fef10c6f580', u'msg_type': u'execute_request', u'session': u'8aca5899f3264f9c8f3a578c528bc0ad', u'username': u'username', u'version': u'5.2'}, 'metadata': {}, 'msg_id': u'c83fe2c3268f4f68afc53fef10c6f580', 'msg_type': u'execute_request', 'parent_header': {}})\n    228             self.log.warn(\"Unknown message type: %r\", msg_type)\n    229         else:\n    230             self.log.debug(\"%s: %s\", msg_type, msg)\n    231             self.pre_handler_hook()\n    232             try:\n--> 233                 handler(stream, idents, msg)\n        handler = <bound method IPythonKernel.execute_request of <ipykernel.ipkernel.IPythonKernel object>>\n        stream = <zmq.eventloop.zmqstream.ZMQStream object>\n        idents = ['8aca5899f3264f9c8f3a578c528bc0ad']\n        msg = {'buffers': [], 'content': {u'allow_stdin': True, u'code': u'parameters = {\\'vect_ngram_range\\': [(1,1), (1..._jobs=-1)\\ngs_clf = gs_clf.fit(X_train, y_train)', u'silent': False, u'stop_on_error': True, u'store_history': True, u'user_expressions': {}}, 'header': {u'date': datetime.datetime(2018, 5, 5, 3, 22, 17, 337943, tzinfo=tzutc()), u'msg_id': u'c83fe2c3268f4f68afc53fef10c6f580', u'msg_type': u'execute_request', u'session': u'8aca5899f3264f9c8f3a578c528bc0ad', u'username': u'username', u'version': u'5.2'}, 'metadata': {}, 'msg_id': u'c83fe2c3268f4f68afc53fef10c6f580', 'msg_type': u'execute_request', 'parent_header': {}}\n    234             except Exception:\n    235                 self.log.error(\"Exception in message handler:\", exc_info=True)\n    236             finally:\n    237                 self.post_handler_hook()\n\n...........................................................................\n/Users/Rachel/anaconda2/lib/python2.7/site-packages/ipykernel/kernelbase.py in execute_request(self=<ipykernel.ipkernel.IPythonKernel object>, stream=<zmq.eventloop.zmqstream.ZMQStream object>, ident=['8aca5899f3264f9c8f3a578c528bc0ad'], parent={'buffers': [], 'content': {u'allow_stdin': True, u'code': u'parameters = {\\'vect_ngram_range\\': [(1,1), (1..._jobs=-1)\\ngs_clf = gs_clf.fit(X_train, y_train)', u'silent': False, u'stop_on_error': True, u'store_history': True, u'user_expressions': {}}, 'header': {u'date': datetime.datetime(2018, 5, 5, 3, 22, 17, 337943, tzinfo=tzutc()), u'msg_id': u'c83fe2c3268f4f68afc53fef10c6f580', u'msg_type': u'execute_request', u'session': u'8aca5899f3264f9c8f3a578c528bc0ad', u'username': u'username', u'version': u'5.2'}, 'metadata': {}, 'msg_id': u'c83fe2c3268f4f68afc53fef10c6f580', 'msg_type': u'execute_request', 'parent_header': {}})\n    394         if not silent:\n    395             self.execution_count += 1\n    396             self._publish_execute_input(code, parent, self.execution_count)\n    397 \n    398         reply_content = self.do_execute(code, silent, store_history,\n--> 399                                         user_expressions, allow_stdin)\n        user_expressions = {}\n        allow_stdin = True\n    400 \n    401         # Flush output before sending the reply.\n    402         sys.stdout.flush()\n    403         sys.stderr.flush()\n\n...........................................................................\n/Users/Rachel/anaconda2/lib/python2.7/site-packages/ipykernel/ipkernel.py in do_execute(self=<ipykernel.ipkernel.IPythonKernel object>, code=u'parameters = {\\'vect_ngram_range\\': [(1,1), (1..._jobs=-1)\\ngs_clf = gs_clf.fit(X_train, y_train)', silent=False, store_history=True, user_expressions={}, allow_stdin=True)\n    203 \n    204         self._forward_input(allow_stdin)\n    205 \n    206         reply_content = {}\n    207         try:\n--> 208             res = shell.run_cell(code, store_history=store_history, silent=silent)\n        res = undefined\n        shell.run_cell = <bound method ZMQInteractiveShell.run_cell of <ipykernel.zmqshell.ZMQInteractiveShell object>>\n        code = u'parameters = {\\'vect_ngram_range\\': [(1,1), (1..._jobs=-1)\\ngs_clf = gs_clf.fit(X_train, y_train)'\n        store_history = True\n        silent = False\n    209         finally:\n    210             self._restore_input()\n    211 \n    212         if res.error_before_exec is not None:\n\n...........................................................................\n/Users/Rachel/anaconda2/lib/python2.7/site-packages/ipykernel/zmqshell.py in run_cell(self=<ipykernel.zmqshell.ZMQInteractiveShell object>, *args=(u'parameters = {\\'vect_ngram_range\\': [(1,1), (1..._jobs=-1)\\ngs_clf = gs_clf.fit(X_train, y_train)',), **kwargs={'silent': False, 'store_history': True})\n    532             )\n    533         self.payload_manager.write_payload(payload)\n    534 \n    535     def run_cell(self, *args, **kwargs):\n    536         self._last_traceback = None\n--> 537         return super(ZMQInteractiveShell, self).run_cell(*args, **kwargs)\n        self.run_cell = <bound method ZMQInteractiveShell.run_cell of <ipykernel.zmqshell.ZMQInteractiveShell object>>\n        args = (u'parameters = {\\'vect_ngram_range\\': [(1,1), (1..._jobs=-1)\\ngs_clf = gs_clf.fit(X_train, y_train)',)\n        kwargs = {'silent': False, 'store_history': True}\n    538 \n    539     def _showtraceback(self, etype, evalue, stb):\n    540         # try to preserve ordering of tracebacks and print statements\n    541         sys.stdout.flush()\n\n...........................................................................\n/Users/Rachel/anaconda2/lib/python2.7/site-packages/IPython/core/interactiveshell.py in run_cell(self=<ipykernel.zmqshell.ZMQInteractiveShell object>, raw_cell=u'parameters = {\\'vect_ngram_range\\': [(1,1), (1..._jobs=-1)\\ngs_clf = gs_clf.fit(X_train, y_train)', store_history=True, silent=False, shell_futures=True)\n   2713                 self.displayhook.exec_result = result\n   2714 \n   2715                 # Execute the user code\n   2716                 interactivity = \"none\" if silent else self.ast_node_interactivity\n   2717                 has_raised = self.run_ast_nodes(code_ast.body, cell_name,\n-> 2718                    interactivity=interactivity, compiler=compiler, result=result)\n        interactivity = 'last_expr'\n        compiler = <IPython.core.compilerop.CachingCompiler instance>\n   2719                 \n   2720                 self.last_execution_succeeded = not has_raised\n   2721 \n   2722                 # Reset this so later displayed values do not modify the\n\n...........................................................................\n/Users/Rachel/anaconda2/lib/python2.7/site-packages/IPython/core/interactiveshell.py in run_ast_nodes(self=<ipykernel.zmqshell.ZMQInteractiveShell object>, nodelist=[<_ast.Assign object>, <_ast.Assign object>, <_ast.Assign object>], cell_name='<ipython-input-27-5cd0c2dcf71b>', interactivity='none', compiler=<IPython.core.compilerop.CachingCompiler instance>, result=<ExecutionResult object at 10f4917d0, execution_..._before_exec=None error_in_exec=None result=None>)\n   2817 \n   2818         try:\n   2819             for i, node in enumerate(to_run_exec):\n   2820                 mod = ast.Module([node])\n   2821                 code = compiler(mod, cell_name, \"exec\")\n-> 2822                 if self.run_code(code, result):\n        self.run_code = <bound method ZMQInteractiveShell.run_code of <ipykernel.zmqshell.ZMQInteractiveShell object>>\n        code = <code object <module> at 0x10c758630, file \"<ipython-input-27-5cd0c2dcf71b>\", line 5>\n        result = <ExecutionResult object at 10f4917d0, execution_..._before_exec=None error_in_exec=None result=None>\n   2823                     return True\n   2824 \n   2825             for i, node in enumerate(to_run_interactive):\n   2826                 mod = ast.Interactive([node])\n\n...........................................................................\n/Users/Rachel/anaconda2/lib/python2.7/site-packages/IPython/core/interactiveshell.py in run_code(self=<ipykernel.zmqshell.ZMQInteractiveShell object>, code_obj=<code object <module> at 0x10c758630, file \"<ipython-input-27-5cd0c2dcf71b>\", line 5>, result=<ExecutionResult object at 10f4917d0, execution_..._before_exec=None error_in_exec=None result=None>)\n   2877         outflag = 1  # happens in more places, so it's easier as default\n   2878         try:\n   2879             try:\n   2880                 self.hooks.pre_run_code_hook()\n   2881                 #rprint('Running code', repr(code_obj)) # dbg\n-> 2882                 exec(code_obj, self.user_global_ns, self.user_ns)\n        code_obj = <code object <module> at 0x10c758630, file \"<ipython-input-27-5cd0c2dcf71b>\", line 5>\n        self.user_global_ns = {'CountVectorizer': <class 'sklearn.feature_extraction.text.CountVectorizer'>, 'GridSearchCV': <class 'sklearn.model_selection._search.GridSearchCV'>, 'In': ['', u'import numpy as np\\nimport pandas as pd', u'jeopardy = pd.read_csv(\"JEOPARDY_CSV.csv\")', u'jeopardy.head()', u'print(jeopardy.columns.values)', u'# print(jeopardy.keys)', u'answer_column = jeopardy.loc[:, \" Answer\"]', u'print(jeopardy.info())', u'# print(answer_column)', u'answer_counts = answer_column.value_counts()', u'# print(answer_counts)', u'jeopardy[\" Value\"].replace(to_replace=\"None\", value=0, inplace=True)\\n# print(jeopardy[\" Value\"])', u'jeopardy[\" Value\"] = jeopardy[\" Value\"].apply(...y[\" Value\"].value_counts())[jeopardy[\" Value\"]])', u\"print(jeopardy.head())\\njeopardy = jeopardy[jeopardy['count'] > 1000]\\nprint(jeopardy.head(20))\", u'unique_categories = jeopardy[\" Category\"].unique()\\nprint(unique_categories)', u'unique_series = pd.DataFrame({\"Category\": unique_categories})', u'print(unique_series)', u'category_column = jeopardy[\" Category\"]\\ncateg...ry_column.value_counts()\\nprint(category_counts)', u'# print(category_counts[\"BEFORE & AFTER\"])\\nca...nresults = cat_counts_list[0:50]\\nprint(results)', u'from sklearn.feature_extraction.text import Co...n, y_test = train_test_split(X, y, test_size=.2)', ...], 'MultinomialNB': <class 'sklearn.naive_bayes.MultinomialNB'>, 'Out': {3:    Show Number    Air Date      Round           ...Dec. of Indep., framer of the Co...  John Adams  , 20: (170047, 81845), 21: (170047, 81845)}, 'Pipeline': <class 'sklearn.pipeline.Pipeline'>, 'SGDClassifier': <class 'sklearn.linear_model.stochastic_gradient.SGDClassifier'>, 'TfidfTransformer': <class 'sklearn.feature_extraction.text.TfidfTransformer'>, 'X': 0         For the last 8 years of his life, Gali.....\nName:  Question, Length: 212559, dtype: object, 'X_test': 87600                                           .../15\nName:  Question, Length: 42512, dtype: object, ...}\n        self.user_ns = {'CountVectorizer': <class 'sklearn.feature_extraction.text.CountVectorizer'>, 'GridSearchCV': <class 'sklearn.model_selection._search.GridSearchCV'>, 'In': ['', u'import numpy as np\\nimport pandas as pd', u'jeopardy = pd.read_csv(\"JEOPARDY_CSV.csv\")', u'jeopardy.head()', u'print(jeopardy.columns.values)', u'# print(jeopardy.keys)', u'answer_column = jeopardy.loc[:, \" Answer\"]', u'print(jeopardy.info())', u'# print(answer_column)', u'answer_counts = answer_column.value_counts()', u'# print(answer_counts)', u'jeopardy[\" Value\"].replace(to_replace=\"None\", value=0, inplace=True)\\n# print(jeopardy[\" Value\"])', u'jeopardy[\" Value\"] = jeopardy[\" Value\"].apply(...y[\" Value\"].value_counts())[jeopardy[\" Value\"]])', u\"print(jeopardy.head())\\njeopardy = jeopardy[jeopardy['count'] > 1000]\\nprint(jeopardy.head(20))\", u'unique_categories = jeopardy[\" Category\"].unique()\\nprint(unique_categories)', u'unique_series = pd.DataFrame({\"Category\": unique_categories})', u'print(unique_series)', u'category_column = jeopardy[\" Category\"]\\ncateg...ry_column.value_counts()\\nprint(category_counts)', u'# print(category_counts[\"BEFORE & AFTER\"])\\nca...nresults = cat_counts_list[0:50]\\nprint(results)', u'from sklearn.feature_extraction.text import Co...n, y_test = train_test_split(X, y, test_size=.2)', ...], 'MultinomialNB': <class 'sklearn.naive_bayes.MultinomialNB'>, 'Out': {3:    Show Number    Air Date      Round           ...Dec. of Indep., framer of the Co...  John Adams  , 20: (170047, 81845), 21: (170047, 81845)}, 'Pipeline': <class 'sklearn.pipeline.Pipeline'>, 'SGDClassifier': <class 'sklearn.linear_model.stochastic_gradient.SGDClassifier'>, 'TfidfTransformer': <class 'sklearn.feature_extraction.text.TfidfTransformer'>, 'X': 0         For the last 8 years of his life, Gali.....\nName:  Question, Length: 212559, dtype: object, 'X_test': 87600                                           .../15\nName:  Question, Length: 42512, dtype: object, ...}\n   2883             finally:\n   2884                 # Reset our crash handler in place\n   2885                 sys.excepthook = old_excepthook\n   2886         except SystemExit as e:\n\n...........................................................................\n/Users/Rachel/Documents/GitHub/Jeopardy/<ipython-input-27-5cd0c2dcf71b> in <module>()\n      1 parameters = {'vect_ngram_range': [(1,1), (1,2)],\n      2              'tfidf_use_idf': (True, False),\n      3              \"clf_alpha\": (1e-2, 1e-3)}\n      4 gs_clf = GridSearchCV(text_clf, param_grid=parameters, n_jobs=-1)\n----> 5 gs_clf = gs_clf.fit(X_train, y_train)\n\n...........................................................................\n/Users/Rachel/anaconda2/lib/python2.7/site-packages/sklearn/model_selection/_search.py in fit(self=GridSearchCV(cv=None, error_score='raise',\n     ...ain_score='warn',\n       scoring=None, verbose=0), X=16938                      About 300,000 passeng.....\nName:  Question, Length: 170047, dtype: object, y=16938     1600\n216781     400\n69342      200\n353...     0\nName:  Value, Length: 170047, dtype: int64, groups=None, **fit_params={})\n    634                                   return_train_score=self.return_train_score,\n    635                                   return_n_test_samples=True,\n    636                                   return_times=True, return_parameters=False,\n    637                                   error_score=self.error_score)\n    638           for parameters, (train, test) in product(candidate_params,\n--> 639                                                    cv.split(X, y, groups)))\n        cv.split = <bound method StratifiedKFold.split of Stratifie...ld(n_splits=3, random_state=None, shuffle=False)>\n        X = 16938                      About 300,000 passeng.....\nName:  Question, Length: 170047, dtype: object\n        y = 16938     1600\n216781     400\n69342      200\n353...     0\nName:  Value, Length: 170047, dtype: int64\n        groups = None\n    640 \n    641         # if one choose to see train score, \"out\" will contain train score info\n    642         if self.return_train_score:\n    643             (train_score_dicts, test_score_dicts, test_sample_counts, fit_time,\n\n...........................................................................\n/Users/Rachel/anaconda2/lib/python2.7/site-packages/sklearn/externals/joblib/parallel.py in __call__(self=Parallel(n_jobs=-1), iterable=<generator object <genexpr>>)\n    784             if pre_dispatch == \"all\" or n_jobs == 1:\n    785                 # The iterable was consumed all at once by the above for loop.\n    786                 # No need to wait for async callbacks to trigger to\n    787                 # consumption.\n    788                 self._iterating = False\n--> 789             self.retrieve()\n        self.retrieve = <bound method Parallel.retrieve of Parallel(n_jobs=-1)>\n    790             # Make sure that we get a last message telling us we are done\n    791             elapsed_time = time.time() - self._start_time\n    792             self._print('Done %3i out of %3i | elapsed: %s finished',\n    793                         (len(self._output), len(self._output),\n\n---------------------------------------------------------------------------\nSub-process traceback:\n---------------------------------------------------------------------------\nValueError                                         Fri May  4 21:22:47 2018\nPID: 12349                Python 2.7.14: /Users/Rachel/anaconda2/bin/python\n...........................................................................\n/Users/Rachel/anaconda2/lib/python2.7/site-packages/sklearn/externals/joblib/parallel.py in __call__(self=<sklearn.externals.joblib.parallel.BatchedCalls object>)\n    126     def __init__(self, iterator_slice):\n    127         self.items = list(iterator_slice)\n    128         self._size = len(self.items)\n    129 \n    130     def __call__(self):\n--> 131         return [func(*args, **kwargs) for func, args, kwargs in self.items]\n        func = <function _fit_and_score>\n        args = (Pipeline(memory=None,\n     steps=[('vect', Count...B(alpha=1.0, class_prior=None, fit_prior=True))]), 16938                      About 300,000 passeng.....\nName:  Question, Length: 170047, dtype: object, 16938     1600\n216781     400\n69342      200\n353...     0\nName:  Value, Length: 170047, dtype: int64, {'score': <function _passthrough_scorer>}, array([ 55511,  55530,  55535, ..., 170044, 170045, 170046]), array([    0,     1,     2, ..., 57576, 57585, 57612]), 0, {'clf_alpha': 0.01, 'tfidf_use_idf': True, 'vect_ngram_range': (1, 1)})\n        kwargs = {'error_score': 'raise', 'fit_params': {}, 'return_n_test_samples': True, 'return_parameters': False, 'return_times': True, 'return_train_score': 'warn'}\n        self.items = [(<function _fit_and_score>, (Pipeline(memory=None,\n     steps=[('vect', Count...B(alpha=1.0, class_prior=None, fit_prior=True))]), 16938                      About 300,000 passeng.....\nName:  Question, Length: 170047, dtype: object, 16938     1600\n216781     400\n69342      200\n353...     0\nName:  Value, Length: 170047, dtype: int64, {'score': <function _passthrough_scorer>}, array([ 55511,  55530,  55535, ..., 170044, 170045, 170046]), array([    0,     1,     2, ..., 57576, 57585, 57612]), 0, {'clf_alpha': 0.01, 'tfidf_use_idf': True, 'vect_ngram_range': (1, 1)}), {'error_score': 'raise', 'fit_params': {}, 'return_n_test_samples': True, 'return_parameters': False, 'return_times': True, 'return_train_score': 'warn'})]\n    132 \n    133     def __len__(self):\n    134         return self._size\n    135 \n\n...........................................................................\n/Users/Rachel/anaconda2/lib/python2.7/site-packages/sklearn/model_selection/_validation.py in _fit_and_score(estimator=Pipeline(memory=None,\n     steps=[('vect', Count...B(alpha=1.0, class_prior=None, fit_prior=True))]), X=16938                      About 300,000 passeng.....\nName:  Question, Length: 170047, dtype: object, y=16938     1600\n216781     400\n69342      200\n353...     0\nName:  Value, Length: 170047, dtype: int64, scorer={'score': <function _passthrough_scorer>}, train=array([ 55511,  55530,  55535, ..., 170044, 170045, 170046]), test=array([    0,     1,     2, ..., 57576, 57585, 57612]), verbose=0, parameters={'clf_alpha': 0.01, 'tfidf_use_idf': True, 'vect_ngram_range': (1, 1)}, fit_params={}, return_train_score='warn', return_parameters=False, return_n_test_samples=True, return_times=True, error_score='raise')\n    439                       for k, v in fit_params.items()])\n    440 \n    441     test_scores = {}\n    442     train_scores = {}\n    443     if parameters is not None:\n--> 444         estimator.set_params(**parameters)\n        estimator.set_params = <bound method Pipeline.set_params of Pipeline(me...(alpha=1.0, class_prior=None, fit_prior=True))])>\n        parameters = {'clf_alpha': 0.01, 'tfidf_use_idf': True, 'vect_ngram_range': (1, 1)}\n    445 \n    446     start_time = time.time()\n    447 \n    448     X_train, y_train = _safe_split(estimator, X, y, train)\n\n...........................................................................\n/Users/Rachel/anaconda2/lib/python2.7/site-packages/sklearn/pipeline.py in set_params(self=Pipeline(memory=None,\n     steps=[('vect', Count...B(alpha=1.0, class_prior=None, fit_prior=True))]), **kwargs={'clf_alpha': 0.01, 'tfidf_use_idf': True, 'vect_ngram_range': (1, 1)})\n    137 \n    138         Returns\n    139         -------\n    140         self\n    141         \"\"\"\n--> 142         self._set_params('steps', **kwargs)\n        self._set_params = <bound method Pipeline._set_params of Pipeline(m...(alpha=1.0, class_prior=None, fit_prior=True))])>\n        kwargs = {'clf_alpha': 0.01, 'tfidf_use_idf': True, 'vect_ngram_range': (1, 1)}\n    143         return self\n    144 \n    145     def _validate_steps(self):\n    146         names, estimators = zip(*self.steps)\n\n...........................................................................\n/Users/Rachel/anaconda2/lib/python2.7/site-packages/sklearn/utils/metaestimators.py in _set_params(self=Pipeline(memory=None,\n     steps=[('vect', Count...B(alpha=1.0, class_prior=None, fit_prior=True))]), attr='steps', **params={'clf_alpha': 0.01, 'tfidf_use_idf': True, 'vect_ngram_range': (1, 1)})\n     44         names, _ = zip(*getattr(self, attr))\n     45         for name in list(six.iterkeys(params)):\n     46             if '__' not in name and name in names:\n     47                 self._replace_estimator(attr, name, params.pop(name))\n     48         # 3. Step parameters and other initilisation arguments\n---> 49         super(_BaseComposition, self).set_params(**params)\n        self.set_params = <bound method Pipeline.set_params of Pipeline(me...(alpha=1.0, class_prior=None, fit_prior=True))])>\n        params = {'clf_alpha': 0.01, 'tfidf_use_idf': True, 'vect_ngram_range': (1, 1)}\n     50         return self\n     51 \n     52     def _replace_estimator(self, attr, name, new_val):\n     53         # assumes `name` is a valid estimator name\n\n...........................................................................\n/Users/Rachel/anaconda2/lib/python2.7/site-packages/sklearn/base.py in set_params(self=Pipeline(memory=None,\n     steps=[('vect', Count...B(alpha=1.0, class_prior=None, fit_prior=True))]), **params={'clf_alpha': 0.01, 'tfidf_use_idf': True, 'vect_ngram_range': (1, 1)})\n    269             key, delim, sub_key = key.partition('__')\n    270             if key not in valid_params:\n    271                 raise ValueError('Invalid parameter %s for estimator %s. '\n    272                                  'Check the list of available parameters '\n    273                                  'with `estimator.get_params().keys()`.' %\n--> 274                                  (key, self))\n        key = 'clf_alpha'\n        self = Pipeline(memory=None,\n     steps=[('vect', Count...B(alpha=1.0, class_prior=None, fit_prior=True))])\n    275 \n    276             if delim:\n    277                 nested_params[key][sub_key] = value\n    278             else:\n\nValueError: Invalid parameter clf_alpha for estimator Pipeline(memory=None,\n     steps=[('vect', CountVectorizer(analyzer=u'word', binary=False, decode_error=u'strict',\n        dtype=<type 'numpy.int64'>, encoding=u'utf-8', input=u'content',\n        lowercase=True, max_df=1.0, max_features=None, min_df=1,\n        ngram_range=(1, 1), preprocessor=None, stop_words=None,\n        st...False,\n         use_idf=True)), ('clf', MultinomialNB(alpha=1.0, class_prior=None, fit_prior=True))]). Check the list of available parameters with `estimator.get_params().keys()`.\n___________________________________________________________________________",
     "output_type": "error",
     "traceback": [
      "\u001b[0;31m---------------------------------------------------------------------------\u001b[0m",
      "\u001b[0;31mJoblibValueError\u001b[0m                          Traceback (most recent call last)",
      "\u001b[0;32m<ipython-input-27-5cd0c2dcf71b>\u001b[0m in \u001b[0;36m<module>\u001b[0;34m()\u001b[0m\n\u001b[1;32m      3\u001b[0m              \"clf_alpha\": (1e-2, 1e-3)}\n\u001b[1;32m      4\u001b[0m \u001b[0mgs_clf\u001b[0m \u001b[0;34m=\u001b[0m \u001b[0mGridSearchCV\u001b[0m\u001b[0;34m(\u001b[0m\u001b[0mtext_clf\u001b[0m\u001b[0;34m,\u001b[0m \u001b[0mparam_grid\u001b[0m\u001b[0;34m=\u001b[0m\u001b[0mparameters\u001b[0m\u001b[0;34m,\u001b[0m \u001b[0mn_jobs\u001b[0m\u001b[0;34m=\u001b[0m\u001b[0;34m-\u001b[0m\u001b[0;36m1\u001b[0m\u001b[0;34m)\u001b[0m\u001b[0;34m\u001b[0m\u001b[0m\n\u001b[0;32m----> 5\u001b[0;31m \u001b[0mgs_clf\u001b[0m \u001b[0;34m=\u001b[0m \u001b[0mgs_clf\u001b[0m\u001b[0;34m.\u001b[0m\u001b[0mfit\u001b[0m\u001b[0;34m(\u001b[0m\u001b[0mX_train\u001b[0m\u001b[0;34m,\u001b[0m \u001b[0my_train\u001b[0m\u001b[0;34m)\u001b[0m\u001b[0;34m\u001b[0m\u001b[0m\n\u001b[0m",
      "\u001b[0;32m/Users/Rachel/anaconda2/lib/python2.7/site-packages/sklearn/model_selection/_search.pyc\u001b[0m in \u001b[0;36mfit\u001b[0;34m(self, X, y, groups, **fit_params)\u001b[0m\n\u001b[1;32m    637\u001b[0m                                   error_score=self.error_score)\n\u001b[1;32m    638\u001b[0m           for parameters, (train, test) in product(candidate_params,\n\u001b[0;32m--> 639\u001b[0;31m                                                    cv.split(X, y, groups)))\n\u001b[0m\u001b[1;32m    640\u001b[0m \u001b[0;34m\u001b[0m\u001b[0m\n\u001b[1;32m    641\u001b[0m         \u001b[0;31m# if one choose to see train score, \"out\" will contain train score info\u001b[0m\u001b[0;34m\u001b[0m\u001b[0;34m\u001b[0m\u001b[0m\n",
      "\u001b[0;32m/Users/Rachel/anaconda2/lib/python2.7/site-packages/sklearn/externals/joblib/parallel.pyc\u001b[0m in \u001b[0;36m__call__\u001b[0;34m(self, iterable)\u001b[0m\n\u001b[1;32m    787\u001b[0m                 \u001b[0;31m# consumption.\u001b[0m\u001b[0;34m\u001b[0m\u001b[0;34m\u001b[0m\u001b[0m\n\u001b[1;32m    788\u001b[0m                 \u001b[0mself\u001b[0m\u001b[0;34m.\u001b[0m\u001b[0m_iterating\u001b[0m \u001b[0;34m=\u001b[0m \u001b[0mFalse\u001b[0m\u001b[0;34m\u001b[0m\u001b[0m\n\u001b[0;32m--> 789\u001b[0;31m             \u001b[0mself\u001b[0m\u001b[0;34m.\u001b[0m\u001b[0mretrieve\u001b[0m\u001b[0;34m(\u001b[0m\u001b[0;34m)\u001b[0m\u001b[0;34m\u001b[0m\u001b[0m\n\u001b[0m\u001b[1;32m    790\u001b[0m             \u001b[0;31m# Make sure that we get a last message telling us we are done\u001b[0m\u001b[0;34m\u001b[0m\u001b[0;34m\u001b[0m\u001b[0m\n\u001b[1;32m    791\u001b[0m             \u001b[0melapsed_time\u001b[0m \u001b[0;34m=\u001b[0m \u001b[0mtime\u001b[0m\u001b[0;34m.\u001b[0m\u001b[0mtime\u001b[0m\u001b[0;34m(\u001b[0m\u001b[0;34m)\u001b[0m \u001b[0;34m-\u001b[0m \u001b[0mself\u001b[0m\u001b[0;34m.\u001b[0m\u001b[0m_start_time\u001b[0m\u001b[0;34m\u001b[0m\u001b[0m\n",
      "\u001b[0;32m/Users/Rachel/anaconda2/lib/python2.7/site-packages/sklearn/externals/joblib/parallel.pyc\u001b[0m in \u001b[0;36mretrieve\u001b[0;34m(self)\u001b[0m\n\u001b[1;32m    738\u001b[0m                     \u001b[0mexception\u001b[0m \u001b[0;34m=\u001b[0m \u001b[0mexception_type\u001b[0m\u001b[0;34m(\u001b[0m\u001b[0mreport\u001b[0m\u001b[0;34m)\u001b[0m\u001b[0;34m\u001b[0m\u001b[0m\n\u001b[1;32m    739\u001b[0m \u001b[0;34m\u001b[0m\u001b[0m\n\u001b[0;32m--> 740\u001b[0;31m                     \u001b[0;32mraise\u001b[0m \u001b[0mexception\u001b[0m\u001b[0;34m\u001b[0m\u001b[0m\n\u001b[0m\u001b[1;32m    741\u001b[0m \u001b[0;34m\u001b[0m\u001b[0m\n\u001b[1;32m    742\u001b[0m     \u001b[0;32mdef\u001b[0m \u001b[0m__call__\u001b[0m\u001b[0;34m(\u001b[0m\u001b[0mself\u001b[0m\u001b[0;34m,\u001b[0m \u001b[0miterable\u001b[0m\u001b[0;34m)\u001b[0m\u001b[0;34m:\u001b[0m\u001b[0;34m\u001b[0m\u001b[0m\n",
      "\u001b[0;31mJoblibValueError\u001b[0m: JoblibValueError\n___________________________________________________________________________\nMultiprocessing exception:\n...........................................................................\n/Users/Rachel/anaconda2/lib/python2.7/runpy.py in _run_module_as_main(mod_name='ipykernel_launcher', alter_argv=1)\n    169     pkg_name = mod_name.rpartition('.')[0]\n    170     main_globals = sys.modules[\"__main__\"].__dict__\n    171     if alter_argv:\n    172         sys.argv[0] = fname\n    173     return _run_code(code, main_globals, None,\n--> 174                      \"__main__\", fname, loader, pkg_name)\n        fname = '/Users/Rachel/anaconda2/lib/python2.7/site-packages/ipykernel_launcher.py'\n        loader = <pkgutil.ImpLoader instance>\n        pkg_name = ''\n    175 \n    176 def run_module(mod_name, init_globals=None,\n    177                run_name=None, alter_sys=False):\n    178     \"\"\"Execute a module's code without importing it\n\n...........................................................................\n/Users/Rachel/anaconda2/lib/python2.7/runpy.py in _run_code(code=<code object <module> at 0x10a7c62b0, file \"/Use...2.7/site-packages/ipykernel_launcher.py\", line 5>, run_globals={'__builtins__': <module '__builtin__' (built-in)>, '__doc__': 'Entry point for launching an IPython kernel.\\n\\nTh...orts until\\nafter removing the cwd from sys.path.\\n', '__file__': '/Users/Rachel/anaconda2/lib/python2.7/site-packages/ipykernel_launcher.py', '__loader__': <pkgutil.ImpLoader instance>, '__name__': '__main__', '__package__': '', 'app': <module 'ipykernel.kernelapp' from '/Users/Rache...python2.7/site-packages/ipykernel/kernelapp.pyc'>, 'sys': <module 'sys' (built-in)>}, init_globals=None, mod_name='__main__', mod_fname='/Users/Rachel/anaconda2/lib/python2.7/site-packages/ipykernel_launcher.py', mod_loader=<pkgutil.ImpLoader instance>, pkg_name='')\n     67         run_globals.update(init_globals)\n     68     run_globals.update(__name__ = mod_name,\n     69                        __file__ = mod_fname,\n     70                        __loader__ = mod_loader,\n     71                        __package__ = pkg_name)\n---> 72     exec code in run_globals\n        code = <code object <module> at 0x10a7c62b0, file \"/Use...2.7/site-packages/ipykernel_launcher.py\", line 5>\n        run_globals = {'__builtins__': <module '__builtin__' (built-in)>, '__doc__': 'Entry point for launching an IPython kernel.\\n\\nTh...orts until\\nafter removing the cwd from sys.path.\\n', '__file__': '/Users/Rachel/anaconda2/lib/python2.7/site-packages/ipykernel_launcher.py', '__loader__': <pkgutil.ImpLoader instance>, '__name__': '__main__', '__package__': '', 'app': <module 'ipykernel.kernelapp' from '/Users/Rache...python2.7/site-packages/ipykernel/kernelapp.pyc'>, 'sys': <module 'sys' (built-in)>}\n     73     return run_globals\n     74 \n     75 def _run_module_code(code, init_globals=None,\n     76                     mod_name=None, mod_fname=None,\n\n...........................................................................\n/Users/Rachel/anaconda2/lib/python2.7/site-packages/ipykernel_launcher.py in <module>()\n     11     # This is added back by InteractiveShellApp.init_path()\n     12     if sys.path[0] == '':\n     13         del sys.path[0]\n     14 \n     15     from ipykernel import kernelapp as app\n---> 16     app.launch_new_instance()\n\n...........................................................................\n/Users/Rachel/anaconda2/lib/python2.7/site-packages/traitlets/config/application.py in launch_instance(cls=<class 'ipykernel.kernelapp.IPKernelApp'>, argv=None, **kwargs={})\n    653 \n    654         If a global instance already exists, this reinitializes and starts it\n    655         \"\"\"\n    656         app = cls.instance(**kwargs)\n    657         app.initialize(argv)\n--> 658         app.start()\n        app.start = <bound method IPKernelApp.start of <ipykernel.kernelapp.IPKernelApp object>>\n    659 \n    660 #-----------------------------------------------------------------------------\n    661 # utility functions, for convenience\n    662 #-----------------------------------------------------------------------------\n\n...........................................................................\n/Users/Rachel/anaconda2/lib/python2.7/site-packages/ipykernel/kernelapp.py in start(self=<ipykernel.kernelapp.IPKernelApp object>)\n    473         if self.poller is not None:\n    474             self.poller.start()\n    475         self.kernel.start()\n    476         self.io_loop = ioloop.IOLoop.current()\n    477         try:\n--> 478             self.io_loop.start()\n        self.io_loop.start = <bound method ZMQIOLoop.start of <zmq.eventloop.ioloop.ZMQIOLoop object>>\n    479         except KeyboardInterrupt:\n    480             pass\n    481 \n    482 launch_new_instance = IPKernelApp.launch_instance\n\n...........................................................................\n/Users/Rachel/anaconda2/lib/python2.7/site-packages/zmq/eventloop/ioloop.py in start(self=<zmq.eventloop.ioloop.ZMQIOLoop object>)\n    172             )\n    173         return loop\n    174     \n    175     def start(self):\n    176         try:\n--> 177             super(ZMQIOLoop, self).start()\n        self.start = <bound method ZMQIOLoop.start of <zmq.eventloop.ioloop.ZMQIOLoop object>>\n    178         except ZMQError as e:\n    179             if e.errno == ETERM:\n    180                 # quietly return on ETERM\n    181                 pass\n\n...........................................................................\n/Users/Rachel/anaconda2/lib/python2.7/site-packages/tornado/ioloop.py in start(self=<zmq.eventloop.ioloop.ZMQIOLoop object>)\n    883                 self._events.update(event_pairs)\n    884                 while self._events:\n    885                     fd, events = self._events.popitem()\n    886                     try:\n    887                         fd_obj, handler_func = self._handlers[fd]\n--> 888                         handler_func(fd_obj, events)\n        handler_func = <function null_wrapper>\n        fd_obj = <zmq.sugar.socket.Socket object>\n        events = 5\n    889                     except (OSError, IOError) as e:\n    890                         if errno_from_exception(e) == errno.EPIPE:\n    891                             # Happens when the client closes the connection\n    892                             pass\n\n...........................................................................\n/Users/Rachel/anaconda2/lib/python2.7/site-packages/tornado/stack_context.py in null_wrapper(*args=(<zmq.sugar.socket.Socket object>, 5), **kwargs={})\n    272         # Fast path when there are no active contexts.\n    273         def null_wrapper(*args, **kwargs):\n    274             try:\n    275                 current_state = _state.contexts\n    276                 _state.contexts = cap_contexts[0]\n--> 277                 return fn(*args, **kwargs)\n        args = (<zmq.sugar.socket.Socket object>, 5)\n        kwargs = {}\n    278             finally:\n    279                 _state.contexts = current_state\n    280         null_wrapper._wrapped = True\n    281         return null_wrapper\n\n...........................................................................\n/Users/Rachel/anaconda2/lib/python2.7/site-packages/zmq/eventloop/zmqstream.py in _handle_events(self=<zmq.eventloop.zmqstream.ZMQStream object>, fd=<zmq.sugar.socket.Socket object>, events=5)\n    435             # dispatch events:\n    436             if events & IOLoop.ERROR:\n    437                 gen_log.error(\"got POLLERR event on ZMQStream, which doesn't make sense\")\n    438                 return\n    439             if events & IOLoop.READ:\n--> 440                 self._handle_recv()\n        self._handle_recv = <bound method ZMQStream._handle_recv of <zmq.eventloop.zmqstream.ZMQStream object>>\n    441                 if not self.socket:\n    442                     return\n    443             if events & IOLoop.WRITE:\n    444                 self._handle_send()\n\n...........................................................................\n/Users/Rachel/anaconda2/lib/python2.7/site-packages/zmq/eventloop/zmqstream.py in _handle_recv(self=<zmq.eventloop.zmqstream.ZMQStream object>)\n    467                 gen_log.error(\"RECV Error: %s\"%zmq.strerror(e.errno))\n    468         else:\n    469             if self._recv_callback:\n    470                 callback = self._recv_callback\n    471                 # self._recv_callback = None\n--> 472                 self._run_callback(callback, msg)\n        self._run_callback = <bound method ZMQStream._run_callback of <zmq.eventloop.zmqstream.ZMQStream object>>\n        callback = <function null_wrapper>\n        msg = [<zmq.sugar.frame.Frame object>, <zmq.sugar.frame.Frame object>, <zmq.sugar.frame.Frame object>, <zmq.sugar.frame.Frame object>, <zmq.sugar.frame.Frame object>, <zmq.sugar.frame.Frame object>, <zmq.sugar.frame.Frame object>]\n    473                 \n    474         # self.update_state()\n    475         \n    476 \n\n...........................................................................\n/Users/Rachel/anaconda2/lib/python2.7/site-packages/zmq/eventloop/zmqstream.py in _run_callback(self=<zmq.eventloop.zmqstream.ZMQStream object>, callback=<function null_wrapper>, *args=([<zmq.sugar.frame.Frame object>, <zmq.sugar.frame.Frame object>, <zmq.sugar.frame.Frame object>, <zmq.sugar.frame.Frame object>, <zmq.sugar.frame.Frame object>, <zmq.sugar.frame.Frame object>, <zmq.sugar.frame.Frame object>],), **kwargs={})\n    409         close our socket.\"\"\"\n    410         try:\n    411             # Use a NullContext to ensure that all StackContexts are run\n    412             # inside our blanket exception handler rather than outside.\n    413             with stack_context.NullContext():\n--> 414                 callback(*args, **kwargs)\n        callback = <function null_wrapper>\n        args = ([<zmq.sugar.frame.Frame object>, <zmq.sugar.frame.Frame object>, <zmq.sugar.frame.Frame object>, <zmq.sugar.frame.Frame object>, <zmq.sugar.frame.Frame object>, <zmq.sugar.frame.Frame object>, <zmq.sugar.frame.Frame object>],)\n        kwargs = {}\n    415         except:\n    416             gen_log.error(\"Uncaught exception, closing connection.\",\n    417                           exc_info=True)\n    418             # Close the socket on an uncaught exception from a user callback\n\n...........................................................................\n/Users/Rachel/anaconda2/lib/python2.7/site-packages/tornado/stack_context.py in null_wrapper(*args=([<zmq.sugar.frame.Frame object>, <zmq.sugar.frame.Frame object>, <zmq.sugar.frame.Frame object>, <zmq.sugar.frame.Frame object>, <zmq.sugar.frame.Frame object>, <zmq.sugar.frame.Frame object>, <zmq.sugar.frame.Frame object>],), **kwargs={})\n    272         # Fast path when there are no active contexts.\n    273         def null_wrapper(*args, **kwargs):\n    274             try:\n    275                 current_state = _state.contexts\n    276                 _state.contexts = cap_contexts[0]\n--> 277                 return fn(*args, **kwargs)\n        args = ([<zmq.sugar.frame.Frame object>, <zmq.sugar.frame.Frame object>, <zmq.sugar.frame.Frame object>, <zmq.sugar.frame.Frame object>, <zmq.sugar.frame.Frame object>, <zmq.sugar.frame.Frame object>, <zmq.sugar.frame.Frame object>],)\n        kwargs = {}\n    278             finally:\n    279                 _state.contexts = current_state\n    280         null_wrapper._wrapped = True\n    281         return null_wrapper\n\n...........................................................................\n/Users/Rachel/anaconda2/lib/python2.7/site-packages/ipykernel/kernelbase.py in dispatcher(msg=[<zmq.sugar.frame.Frame object>, <zmq.sugar.frame.Frame object>, <zmq.sugar.frame.Frame object>, <zmq.sugar.frame.Frame object>, <zmq.sugar.frame.Frame object>, <zmq.sugar.frame.Frame object>, <zmq.sugar.frame.Frame object>])\n    278         if self.control_stream:\n    279             self.control_stream.on_recv(self.dispatch_control, copy=False)\n    280 \n    281         def make_dispatcher(stream):\n    282             def dispatcher(msg):\n--> 283                 return self.dispatch_shell(stream, msg)\n        msg = [<zmq.sugar.frame.Frame object>, <zmq.sugar.frame.Frame object>, <zmq.sugar.frame.Frame object>, <zmq.sugar.frame.Frame object>, <zmq.sugar.frame.Frame object>, <zmq.sugar.frame.Frame object>, <zmq.sugar.frame.Frame object>]\n    284             return dispatcher\n    285 \n    286         for s in self.shell_streams:\n    287             s.on_recv(make_dispatcher(s), copy=False)\n\n...........................................................................\n/Users/Rachel/anaconda2/lib/python2.7/site-packages/ipykernel/kernelbase.py in dispatch_shell(self=<ipykernel.ipkernel.IPythonKernel object>, stream=<zmq.eventloop.zmqstream.ZMQStream object>, msg={'buffers': [], 'content': {u'allow_stdin': True, u'code': u'parameters = {\\'vect_ngram_range\\': [(1,1), (1..._jobs=-1)\\ngs_clf = gs_clf.fit(X_train, y_train)', u'silent': False, u'stop_on_error': True, u'store_history': True, u'user_expressions': {}}, 'header': {u'date': datetime.datetime(2018, 5, 5, 3, 22, 17, 337943, tzinfo=tzutc()), u'msg_id': u'c83fe2c3268f4f68afc53fef10c6f580', u'msg_type': u'execute_request', u'session': u'8aca5899f3264f9c8f3a578c528bc0ad', u'username': u'username', u'version': u'5.2'}, 'metadata': {}, 'msg_id': u'c83fe2c3268f4f68afc53fef10c6f580', 'msg_type': u'execute_request', 'parent_header': {}})\n    228             self.log.warn(\"Unknown message type: %r\", msg_type)\n    229         else:\n    230             self.log.debug(\"%s: %s\", msg_type, msg)\n    231             self.pre_handler_hook()\n    232             try:\n--> 233                 handler(stream, idents, msg)\n        handler = <bound method IPythonKernel.execute_request of <ipykernel.ipkernel.IPythonKernel object>>\n        stream = <zmq.eventloop.zmqstream.ZMQStream object>\n        idents = ['8aca5899f3264f9c8f3a578c528bc0ad']\n        msg = {'buffers': [], 'content': {u'allow_stdin': True, u'code': u'parameters = {\\'vect_ngram_range\\': [(1,1), (1..._jobs=-1)\\ngs_clf = gs_clf.fit(X_train, y_train)', u'silent': False, u'stop_on_error': True, u'store_history': True, u'user_expressions': {}}, 'header': {u'date': datetime.datetime(2018, 5, 5, 3, 22, 17, 337943, tzinfo=tzutc()), u'msg_id': u'c83fe2c3268f4f68afc53fef10c6f580', u'msg_type': u'execute_request', u'session': u'8aca5899f3264f9c8f3a578c528bc0ad', u'username': u'username', u'version': u'5.2'}, 'metadata': {}, 'msg_id': u'c83fe2c3268f4f68afc53fef10c6f580', 'msg_type': u'execute_request', 'parent_header': {}}\n    234             except Exception:\n    235                 self.log.error(\"Exception in message handler:\", exc_info=True)\n    236             finally:\n    237                 self.post_handler_hook()\n\n...........................................................................\n/Users/Rachel/anaconda2/lib/python2.7/site-packages/ipykernel/kernelbase.py in execute_request(self=<ipykernel.ipkernel.IPythonKernel object>, stream=<zmq.eventloop.zmqstream.ZMQStream object>, ident=['8aca5899f3264f9c8f3a578c528bc0ad'], parent={'buffers': [], 'content': {u'allow_stdin': True, u'code': u'parameters = {\\'vect_ngram_range\\': [(1,1), (1..._jobs=-1)\\ngs_clf = gs_clf.fit(X_train, y_train)', u'silent': False, u'stop_on_error': True, u'store_history': True, u'user_expressions': {}}, 'header': {u'date': datetime.datetime(2018, 5, 5, 3, 22, 17, 337943, tzinfo=tzutc()), u'msg_id': u'c83fe2c3268f4f68afc53fef10c6f580', u'msg_type': u'execute_request', u'session': u'8aca5899f3264f9c8f3a578c528bc0ad', u'username': u'username', u'version': u'5.2'}, 'metadata': {}, 'msg_id': u'c83fe2c3268f4f68afc53fef10c6f580', 'msg_type': u'execute_request', 'parent_header': {}})\n    394         if not silent:\n    395             self.execution_count += 1\n    396             self._publish_execute_input(code, parent, self.execution_count)\n    397 \n    398         reply_content = self.do_execute(code, silent, store_history,\n--> 399                                         user_expressions, allow_stdin)\n        user_expressions = {}\n        allow_stdin = True\n    400 \n    401         # Flush output before sending the reply.\n    402         sys.stdout.flush()\n    403         sys.stderr.flush()\n\n...........................................................................\n/Users/Rachel/anaconda2/lib/python2.7/site-packages/ipykernel/ipkernel.py in do_execute(self=<ipykernel.ipkernel.IPythonKernel object>, code=u'parameters = {\\'vect_ngram_range\\': [(1,1), (1..._jobs=-1)\\ngs_clf = gs_clf.fit(X_train, y_train)', silent=False, store_history=True, user_expressions={}, allow_stdin=True)\n    203 \n    204         self._forward_input(allow_stdin)\n    205 \n    206         reply_content = {}\n    207         try:\n--> 208             res = shell.run_cell(code, store_history=store_history, silent=silent)\n        res = undefined\n        shell.run_cell = <bound method ZMQInteractiveShell.run_cell of <ipykernel.zmqshell.ZMQInteractiveShell object>>\n        code = u'parameters = {\\'vect_ngram_range\\': [(1,1), (1..._jobs=-1)\\ngs_clf = gs_clf.fit(X_train, y_train)'\n        store_history = True\n        silent = False\n    209         finally:\n    210             self._restore_input()\n    211 \n    212         if res.error_before_exec is not None:\n\n...........................................................................\n/Users/Rachel/anaconda2/lib/python2.7/site-packages/ipykernel/zmqshell.py in run_cell(self=<ipykernel.zmqshell.ZMQInteractiveShell object>, *args=(u'parameters = {\\'vect_ngram_range\\': [(1,1), (1..._jobs=-1)\\ngs_clf = gs_clf.fit(X_train, y_train)',), **kwargs={'silent': False, 'store_history': True})\n    532             )\n    533         self.payload_manager.write_payload(payload)\n    534 \n    535     def run_cell(self, *args, **kwargs):\n    536         self._last_traceback = None\n--> 537         return super(ZMQInteractiveShell, self).run_cell(*args, **kwargs)\n        self.run_cell = <bound method ZMQInteractiveShell.run_cell of <ipykernel.zmqshell.ZMQInteractiveShell object>>\n        args = (u'parameters = {\\'vect_ngram_range\\': [(1,1), (1..._jobs=-1)\\ngs_clf = gs_clf.fit(X_train, y_train)',)\n        kwargs = {'silent': False, 'store_history': True}\n    538 \n    539     def _showtraceback(self, etype, evalue, stb):\n    540         # try to preserve ordering of tracebacks and print statements\n    541         sys.stdout.flush()\n\n...........................................................................\n/Users/Rachel/anaconda2/lib/python2.7/site-packages/IPython/core/interactiveshell.py in run_cell(self=<ipykernel.zmqshell.ZMQInteractiveShell object>, raw_cell=u'parameters = {\\'vect_ngram_range\\': [(1,1), (1..._jobs=-1)\\ngs_clf = gs_clf.fit(X_train, y_train)', store_history=True, silent=False, shell_futures=True)\n   2713                 self.displayhook.exec_result = result\n   2714 \n   2715                 # Execute the user code\n   2716                 interactivity = \"none\" if silent else self.ast_node_interactivity\n   2717                 has_raised = self.run_ast_nodes(code_ast.body, cell_name,\n-> 2718                    interactivity=interactivity, compiler=compiler, result=result)\n        interactivity = 'last_expr'\n        compiler = <IPython.core.compilerop.CachingCompiler instance>\n   2719                 \n   2720                 self.last_execution_succeeded = not has_raised\n   2721 \n   2722                 # Reset this so later displayed values do not modify the\n\n...........................................................................\n/Users/Rachel/anaconda2/lib/python2.7/site-packages/IPython/core/interactiveshell.py in run_ast_nodes(self=<ipykernel.zmqshell.ZMQInteractiveShell object>, nodelist=[<_ast.Assign object>, <_ast.Assign object>, <_ast.Assign object>], cell_name='<ipython-input-27-5cd0c2dcf71b>', interactivity='none', compiler=<IPython.core.compilerop.CachingCompiler instance>, result=<ExecutionResult object at 10f4917d0, execution_..._before_exec=None error_in_exec=None result=None>)\n   2817 \n   2818         try:\n   2819             for i, node in enumerate(to_run_exec):\n   2820                 mod = ast.Module([node])\n   2821                 code = compiler(mod, cell_name, \"exec\")\n-> 2822                 if self.run_code(code, result):\n        self.run_code = <bound method ZMQInteractiveShell.run_code of <ipykernel.zmqshell.ZMQInteractiveShell object>>\n        code = <code object <module> at 0x10c758630, file \"<ipython-input-27-5cd0c2dcf71b>\", line 5>\n        result = <ExecutionResult object at 10f4917d0, execution_..._before_exec=None error_in_exec=None result=None>\n   2823                     return True\n   2824 \n   2825             for i, node in enumerate(to_run_interactive):\n   2826                 mod = ast.Interactive([node])\n\n...........................................................................\n/Users/Rachel/anaconda2/lib/python2.7/site-packages/IPython/core/interactiveshell.py in run_code(self=<ipykernel.zmqshell.ZMQInteractiveShell object>, code_obj=<code object <module> at 0x10c758630, file \"<ipython-input-27-5cd0c2dcf71b>\", line 5>, result=<ExecutionResult object at 10f4917d0, execution_..._before_exec=None error_in_exec=None result=None>)\n   2877         outflag = 1  # happens in more places, so it's easier as default\n   2878         try:\n   2879             try:\n   2880                 self.hooks.pre_run_code_hook()\n   2881                 #rprint('Running code', repr(code_obj)) # dbg\n-> 2882                 exec(code_obj, self.user_global_ns, self.user_ns)\n        code_obj = <code object <module> at 0x10c758630, file \"<ipython-input-27-5cd0c2dcf71b>\", line 5>\n        self.user_global_ns = {'CountVectorizer': <class 'sklearn.feature_extraction.text.CountVectorizer'>, 'GridSearchCV': <class 'sklearn.model_selection._search.GridSearchCV'>, 'In': ['', u'import numpy as np\\nimport pandas as pd', u'jeopardy = pd.read_csv(\"JEOPARDY_CSV.csv\")', u'jeopardy.head()', u'print(jeopardy.columns.values)', u'# print(jeopardy.keys)', u'answer_column = jeopardy.loc[:, \" Answer\"]', u'print(jeopardy.info())', u'# print(answer_column)', u'answer_counts = answer_column.value_counts()', u'# print(answer_counts)', u'jeopardy[\" Value\"].replace(to_replace=\"None\", value=0, inplace=True)\\n# print(jeopardy[\" Value\"])', u'jeopardy[\" Value\"] = jeopardy[\" Value\"].apply(...y[\" Value\"].value_counts())[jeopardy[\" Value\"]])', u\"print(jeopardy.head())\\njeopardy = jeopardy[jeopardy['count'] > 1000]\\nprint(jeopardy.head(20))\", u'unique_categories = jeopardy[\" Category\"].unique()\\nprint(unique_categories)', u'unique_series = pd.DataFrame({\"Category\": unique_categories})', u'print(unique_series)', u'category_column = jeopardy[\" Category\"]\\ncateg...ry_column.value_counts()\\nprint(category_counts)', u'# print(category_counts[\"BEFORE & AFTER\"])\\nca...nresults = cat_counts_list[0:50]\\nprint(results)', u'from sklearn.feature_extraction.text import Co...n, y_test = train_test_split(X, y, test_size=.2)', ...], 'MultinomialNB': <class 'sklearn.naive_bayes.MultinomialNB'>, 'Out': {3:    Show Number    Air Date      Round           ...Dec. of Indep., framer of the Co...  John Adams  , 20: (170047, 81845), 21: (170047, 81845)}, 'Pipeline': <class 'sklearn.pipeline.Pipeline'>, 'SGDClassifier': <class 'sklearn.linear_model.stochastic_gradient.SGDClassifier'>, 'TfidfTransformer': <class 'sklearn.feature_extraction.text.TfidfTransformer'>, 'X': 0         For the last 8 years of his life, Gali.....\nName:  Question, Length: 212559, dtype: object, 'X_test': 87600                                           .../15\nName:  Question, Length: 42512, dtype: object, ...}\n        self.user_ns = {'CountVectorizer': <class 'sklearn.feature_extraction.text.CountVectorizer'>, 'GridSearchCV': <class 'sklearn.model_selection._search.GridSearchCV'>, 'In': ['', u'import numpy as np\\nimport pandas as pd', u'jeopardy = pd.read_csv(\"JEOPARDY_CSV.csv\")', u'jeopardy.head()', u'print(jeopardy.columns.values)', u'# print(jeopardy.keys)', u'answer_column = jeopardy.loc[:, \" Answer\"]', u'print(jeopardy.info())', u'# print(answer_column)', u'answer_counts = answer_column.value_counts()', u'# print(answer_counts)', u'jeopardy[\" Value\"].replace(to_replace=\"None\", value=0, inplace=True)\\n# print(jeopardy[\" Value\"])', u'jeopardy[\" Value\"] = jeopardy[\" Value\"].apply(...y[\" Value\"].value_counts())[jeopardy[\" Value\"]])', u\"print(jeopardy.head())\\njeopardy = jeopardy[jeopardy['count'] > 1000]\\nprint(jeopardy.head(20))\", u'unique_categories = jeopardy[\" Category\"].unique()\\nprint(unique_categories)', u'unique_series = pd.DataFrame({\"Category\": unique_categories})', u'print(unique_series)', u'category_column = jeopardy[\" Category\"]\\ncateg...ry_column.value_counts()\\nprint(category_counts)', u'# print(category_counts[\"BEFORE & AFTER\"])\\nca...nresults = cat_counts_list[0:50]\\nprint(results)', u'from sklearn.feature_extraction.text import Co...n, y_test = train_test_split(X, y, test_size=.2)', ...], 'MultinomialNB': <class 'sklearn.naive_bayes.MultinomialNB'>, 'Out': {3:    Show Number    Air Date      Round           ...Dec. of Indep., framer of the Co...  John Adams  , 20: (170047, 81845), 21: (170047, 81845)}, 'Pipeline': <class 'sklearn.pipeline.Pipeline'>, 'SGDClassifier': <class 'sklearn.linear_model.stochastic_gradient.SGDClassifier'>, 'TfidfTransformer': <class 'sklearn.feature_extraction.text.TfidfTransformer'>, 'X': 0         For the last 8 years of his life, Gali.....\nName:  Question, Length: 212559, dtype: object, 'X_test': 87600                                           .../15\nName:  Question, Length: 42512, dtype: object, ...}\n   2883             finally:\n   2884                 # Reset our crash handler in place\n   2885                 sys.excepthook = old_excepthook\n   2886         except SystemExit as e:\n\n...........................................................................\n/Users/Rachel/Documents/GitHub/Jeopardy/<ipython-input-27-5cd0c2dcf71b> in <module>()\n      1 parameters = {'vect_ngram_range': [(1,1), (1,2)],\n      2              'tfidf_use_idf': (True, False),\n      3              \"clf_alpha\": (1e-2, 1e-3)}\n      4 gs_clf = GridSearchCV(text_clf, param_grid=parameters, n_jobs=-1)\n----> 5 gs_clf = gs_clf.fit(X_train, y_train)\n\n...........................................................................\n/Users/Rachel/anaconda2/lib/python2.7/site-packages/sklearn/model_selection/_search.py in fit(self=GridSearchCV(cv=None, error_score='raise',\n     ...ain_score='warn',\n       scoring=None, verbose=0), X=16938                      About 300,000 passeng.....\nName:  Question, Length: 170047, dtype: object, y=16938     1600\n216781     400\n69342      200\n353...     0\nName:  Value, Length: 170047, dtype: int64, groups=None, **fit_params={})\n    634                                   return_train_score=self.return_train_score,\n    635                                   return_n_test_samples=True,\n    636                                   return_times=True, return_parameters=False,\n    637                                   error_score=self.error_score)\n    638           for parameters, (train, test) in product(candidate_params,\n--> 639                                                    cv.split(X, y, groups)))\n        cv.split = <bound method StratifiedKFold.split of Stratifie...ld(n_splits=3, random_state=None, shuffle=False)>\n        X = 16938                      About 300,000 passeng.....\nName:  Question, Length: 170047, dtype: object\n        y = 16938     1600\n216781     400\n69342      200\n353...     0\nName:  Value, Length: 170047, dtype: int64\n        groups = None\n    640 \n    641         # if one choose to see train score, \"out\" will contain train score info\n    642         if self.return_train_score:\n    643             (train_score_dicts, test_score_dicts, test_sample_counts, fit_time,\n\n...........................................................................\n/Users/Rachel/anaconda2/lib/python2.7/site-packages/sklearn/externals/joblib/parallel.py in __call__(self=Parallel(n_jobs=-1), iterable=<generator object <genexpr>>)\n    784             if pre_dispatch == \"all\" or n_jobs == 1:\n    785                 # The iterable was consumed all at once by the above for loop.\n    786                 # No need to wait for async callbacks to trigger to\n    787                 # consumption.\n    788                 self._iterating = False\n--> 789             self.retrieve()\n        self.retrieve = <bound method Parallel.retrieve of Parallel(n_jobs=-1)>\n    790             # Make sure that we get a last message telling us we are done\n    791             elapsed_time = time.time() - self._start_time\n    792             self._print('Done %3i out of %3i | elapsed: %s finished',\n    793                         (len(self._output), len(self._output),\n\n---------------------------------------------------------------------------\nSub-process traceback:\n---------------------------------------------------------------------------\nValueError                                         Fri May  4 21:22:47 2018\nPID: 12349                Python 2.7.14: /Users/Rachel/anaconda2/bin/python\n...........................................................................\n/Users/Rachel/anaconda2/lib/python2.7/site-packages/sklearn/externals/joblib/parallel.py in __call__(self=<sklearn.externals.joblib.parallel.BatchedCalls object>)\n    126     def __init__(self, iterator_slice):\n    127         self.items = list(iterator_slice)\n    128         self._size = len(self.items)\n    129 \n    130     def __call__(self):\n--> 131         return [func(*args, **kwargs) for func, args, kwargs in self.items]\n        func = <function _fit_and_score>\n        args = (Pipeline(memory=None,\n     steps=[('vect', Count...B(alpha=1.0, class_prior=None, fit_prior=True))]), 16938                      About 300,000 passeng.....\nName:  Question, Length: 170047, dtype: object, 16938     1600\n216781     400\n69342      200\n353...     0\nName:  Value, Length: 170047, dtype: int64, {'score': <function _passthrough_scorer>}, array([ 55511,  55530,  55535, ..., 170044, 170045, 170046]), array([    0,     1,     2, ..., 57576, 57585, 57612]), 0, {'clf_alpha': 0.01, 'tfidf_use_idf': True, 'vect_ngram_range': (1, 1)})\n        kwargs = {'error_score': 'raise', 'fit_params': {}, 'return_n_test_samples': True, 'return_parameters': False, 'return_times': True, 'return_train_score': 'warn'}\n        self.items = [(<function _fit_and_score>, (Pipeline(memory=None,\n     steps=[('vect', Count...B(alpha=1.0, class_prior=None, fit_prior=True))]), 16938                      About 300,000 passeng.....\nName:  Question, Length: 170047, dtype: object, 16938     1600\n216781     400\n69342      200\n353...     0\nName:  Value, Length: 170047, dtype: int64, {'score': <function _passthrough_scorer>}, array([ 55511,  55530,  55535, ..., 170044, 170045, 170046]), array([    0,     1,     2, ..., 57576, 57585, 57612]), 0, {'clf_alpha': 0.01, 'tfidf_use_idf': True, 'vect_ngram_range': (1, 1)}), {'error_score': 'raise', 'fit_params': {}, 'return_n_test_samples': True, 'return_parameters': False, 'return_times': True, 'return_train_score': 'warn'})]\n    132 \n    133     def __len__(self):\n    134         return self._size\n    135 \n\n...........................................................................\n/Users/Rachel/anaconda2/lib/python2.7/site-packages/sklearn/model_selection/_validation.py in _fit_and_score(estimator=Pipeline(memory=None,\n     steps=[('vect', Count...B(alpha=1.0, class_prior=None, fit_prior=True))]), X=16938                      About 300,000 passeng.....\nName:  Question, Length: 170047, dtype: object, y=16938     1600\n216781     400\n69342      200\n353...     0\nName:  Value, Length: 170047, dtype: int64, scorer={'score': <function _passthrough_scorer>}, train=array([ 55511,  55530,  55535, ..., 170044, 170045, 170046]), test=array([    0,     1,     2, ..., 57576, 57585, 57612]), verbose=0, parameters={'clf_alpha': 0.01, 'tfidf_use_idf': True, 'vect_ngram_range': (1, 1)}, fit_params={}, return_train_score='warn', return_parameters=False, return_n_test_samples=True, return_times=True, error_score='raise')\n    439                       for k, v in fit_params.items()])\n    440 \n    441     test_scores = {}\n    442     train_scores = {}\n    443     if parameters is not None:\n--> 444         estimator.set_params(**parameters)\n        estimator.set_params = <bound method Pipeline.set_params of Pipeline(me...(alpha=1.0, class_prior=None, fit_prior=True))])>\n        parameters = {'clf_alpha': 0.01, 'tfidf_use_idf': True, 'vect_ngram_range': (1, 1)}\n    445 \n    446     start_time = time.time()\n    447 \n    448     X_train, y_train = _safe_split(estimator, X, y, train)\n\n...........................................................................\n/Users/Rachel/anaconda2/lib/python2.7/site-packages/sklearn/pipeline.py in set_params(self=Pipeline(memory=None,\n     steps=[('vect', Count...B(alpha=1.0, class_prior=None, fit_prior=True))]), **kwargs={'clf_alpha': 0.01, 'tfidf_use_idf': True, 'vect_ngram_range': (1, 1)})\n    137 \n    138         Returns\n    139         -------\n    140         self\n    141         \"\"\"\n--> 142         self._set_params('steps', **kwargs)\n        self._set_params = <bound method Pipeline._set_params of Pipeline(m...(alpha=1.0, class_prior=None, fit_prior=True))])>\n        kwargs = {'clf_alpha': 0.01, 'tfidf_use_idf': True, 'vect_ngram_range': (1, 1)}\n    143         return self\n    144 \n    145     def _validate_steps(self):\n    146         names, estimators = zip(*self.steps)\n\n...........................................................................\n/Users/Rachel/anaconda2/lib/python2.7/site-packages/sklearn/utils/metaestimators.py in _set_params(self=Pipeline(memory=None,\n     steps=[('vect', Count...B(alpha=1.0, class_prior=None, fit_prior=True))]), attr='steps', **params={'clf_alpha': 0.01, 'tfidf_use_idf': True, 'vect_ngram_range': (1, 1)})\n     44         names, _ = zip(*getattr(self, attr))\n     45         for name in list(six.iterkeys(params)):\n     46             if '__' not in name and name in names:\n     47                 self._replace_estimator(attr, name, params.pop(name))\n     48         # 3. Step parameters and other initilisation arguments\n---> 49         super(_BaseComposition, self).set_params(**params)\n        self.set_params = <bound method Pipeline.set_params of Pipeline(me...(alpha=1.0, class_prior=None, fit_prior=True))])>\n        params = {'clf_alpha': 0.01, 'tfidf_use_idf': True, 'vect_ngram_range': (1, 1)}\n     50         return self\n     51 \n     52     def _replace_estimator(self, attr, name, new_val):\n     53         # assumes `name` is a valid estimator name\n\n...........................................................................\n/Users/Rachel/anaconda2/lib/python2.7/site-packages/sklearn/base.py in set_params(self=Pipeline(memory=None,\n     steps=[('vect', Count...B(alpha=1.0, class_prior=None, fit_prior=True))]), **params={'clf_alpha': 0.01, 'tfidf_use_idf': True, 'vect_ngram_range': (1, 1)})\n    269             key, delim, sub_key = key.partition('__')\n    270             if key not in valid_params:\n    271                 raise ValueError('Invalid parameter %s for estimator %s. '\n    272                                  'Check the list of available parameters '\n    273                                  'with `estimator.get_params().keys()`.' %\n--> 274                                  (key, self))\n        key = 'clf_alpha'\n        self = Pipeline(memory=None,\n     steps=[('vect', Count...B(alpha=1.0, class_prior=None, fit_prior=True))])\n    275 \n    276             if delim:\n    277                 nested_params[key][sub_key] = value\n    278             else:\n\nValueError: Invalid parameter clf_alpha for estimator Pipeline(memory=None,\n     steps=[('vect', CountVectorizer(analyzer=u'word', binary=False, decode_error=u'strict',\n        dtype=<type 'numpy.int64'>, encoding=u'utf-8', input=u'content',\n        lowercase=True, max_df=1.0, max_features=None, min_df=1,\n        ngram_range=(1, 1), preprocessor=None, stop_words=None,\n        st...False,\n         use_idf=True)), ('clf', MultinomialNB(alpha=1.0, class_prior=None, fit_prior=True))]). Check the list of available parameters with `estimator.get_params().keys()`.\n___________________________________________________________________________"
     ]
    }
   ],
   "source": [
    "parameters = {'vect_ngram_range': [(1,1), (1,2)],\n",
    "             'tfidf_use_idf': (True, False),\n",
    "             \"clf_alpha\": (1e-2, 1e-3)}\n",
    "gs_clf = GridSearchCV(text_clf, param_grid=parameters, n_jobs=-1)\n",
    "gs_clf = gs_clf.fit(X_train, y_train)"
   ]
  },
  {
   "cell_type": "code",
   "execution_count": 28,
   "metadata": {
    "scrolled": true
   },
   "outputs": [
    {
     "name": "stdout",
     "output_type": "stream",
     "text": [
      "400     42244\n",
      "800     31860\n",
      "200     30455\n",
      "1000    21640\n",
      "600     20377\n",
      "2000    12829\n",
      "1200    11772\n",
      "1600    11040\n",
      "100      9029\n",
      "500      9016\n",
      "300      8663\n",
      "0        3634\n",
      "Name:  Value, dtype: int64\n"
     ]
    }
   ],
   "source": [
    "print(jeopardy[\" Value\"].value_counts())"
   ]
  },
  {
   "cell_type": "code",
   "execution_count": 54,
   "metadata": {},
   "outputs": [
    {
     "name": "stdout",
     "output_type": "stream",
     "text": [
      "        Show Number    Air Date             Round  \\\n",
      "5286           5903  2010-04-21         Jeopardy!   \n",
      "6239           5307  2007-10-09         Jeopardy!   \n",
      "7779           4146  2002-09-16         Jeopardy!   \n",
      "11290          4698  2005-01-26  Double Jeopardy!   \n",
      "11397          5279  2007-07-19  Double Jeopardy!   \n",
      "13654          4988  2006-04-26  Double Jeopardy!   \n",
      "18009           423  1986-04-23  Double Jeopardy!   \n",
      "39333          6225  2011-10-14         Jeopardy!   \n",
      "46507          4696  2005-01-24         Jeopardy!   \n",
      "46634          5058  2006-09-13         Jeopardy!   \n",
      "61416          2914  1997-04-10         Jeopardy!   \n",
      "73058          5420  2008-03-14         Jeopardy!   \n",
      "97623            57  1984-11-27  Double Jeopardy!   \n",
      "108791         2902  1997-03-25         Jeopardy!   \n",
      "111002         3850  2001-05-04  Double Jeopardy!   \n",
      "115611         4296  2003-04-14         Jeopardy!   \n",
      "129176         5751  2009-09-21         Jeopardy!   \n",
      "153702         5790  2009-11-13  Double Jeopardy!   \n",
      "154755         6075  2011-01-28         Jeopardy!   \n",
      "172015         2826  1996-12-09         Jeopardy!   \n",
      "180970         2870  1997-02-07  Double Jeopardy!   \n",
      "190426         5113  2006-11-29  Double Jeopardy!   \n",
      "213995         5569  2008-11-20  Double Jeopardy!   \n",
      "\n",
      "                           Category   Value  \\\n",
      "5286                 SPACE MISSIONS     800   \n",
      "6239              OUT OF THIS WORLD     400   \n",
      "7779          A TRIP TO OUTER SPACE     400   \n",
      "11290       I'M GETTING SPACED OUT!    1200   \n",
      "11397              NAME THAT PLANET     400   \n",
      "13654               AMAZING STORIES    1200   \n",
      "18009                     ASTRONOMY     400   \n",
      "39333                   THE PLANETS     400   \n",
      "46507                       SCIENCE     400   \n",
      "46634        OFF COURSE, OFF COURSE     600   \n",
      "61416                   THE PLANETS     300   \n",
      "73058              THE SOLAR SYSTEM    1000   \n",
      "97623                         SPACE     200   \n",
      "108791                      SCIENCE     100   \n",
      "111002  PARENTAL GUIDANCE SUGGESTED    1000   \n",
      "115611                  THE PLANETS     200   \n",
      "129176                    ASTRONOMY     400   \n",
      "153702              EXPEDITION WEEK    1600   \n",
      "154755                  ENGINEERING     800   \n",
      "172015                  THE PLANETS     300   \n",
      "180970            ASTRONOMY & SPACE     200   \n",
      "190426                   LET'S SING    1200   \n",
      "213995                         OMG!    2000   \n",
      "\n",
      "                                                 Question           Answer  \\\n",
      "5286    The Cassini project is exploring Titan & Encel...           Saturn   \n",
      "6239    Galileo was the first person to see the rings ...           Saturn   \n",
      "7779    This planet's famous rings were first seen by ...           Saturn   \n",
      "11290   It was big science news in 1998 when a fourth ...          Jupiter   \n",
      "11397   Christian Huygens wrote about this planet's ri...           Saturn   \n",
      "13654   \"Under the Moons of\" this planet, featuring ad...             Mars   \n",
      "18009   This planet is only about ¾ as dense as water,...           Saturn   \n",
      "39333   Around 1675 Gian Domenico Cassini observed a d...           Saturn   \n",
      "46507   The crepe ring is the transparent C ring in th...           Saturn   \n",
      "46634   In 1999 software & navigation issues kept the ...             Mars   \n",
      "61416   In 1980 Voyager 1 revealed that 2 of this plan...           Saturn   \n",
      "73058   On March 10, 1977 astronomers discovered this ...           Uranus   \n",
      "97623     Titan is the largest moon of this ringed planet           Saturn   \n",
      "108791  This ninth planet's unusual orbit sometimes br...            Pluto   \n",
      "111002  Bring a coat if launching yourself in a probe ...          Jupiter   \n",
      "115611  This ringed planet is the farthest one from ea...           Saturn   \n",
      "129176  In 1980 the Voyager spacecraft found that this...           Saturn   \n",
      "153702  <a href=\"http://www.j-archive.com/media/2009-1...  astrobiologists   \n",
      "154755  (<a href=\"http://www.j-archive.com/media/2011-...     the sun gear   \n",
      "172015  Layers of sulfuric acid clouds completely obsc...            Venus   \n",
      "180970  From Earth, this planet's 100,000 or so ringle...           Saturn   \n",
      "190426  \"Fly Me To The Moon\" says, \"Let me sing among ...   Jupiter & Mars   \n",
      "213995  Originally painted in Goya's own dining room, ...           Saturn   \n",
      "\n",
      "        count  \n",
      "5286    31860  \n",
      "6239    42244  \n",
      "7779    42244  \n",
      "11290   11772  \n",
      "11397   42244  \n",
      "13654   11772  \n",
      "18009   42244  \n",
      "39333   42244  \n",
      "46507   42244  \n",
      "46634   20377  \n",
      "61416    8663  \n",
      "73058   21640  \n",
      "97623   30455  \n",
      "108791   9029  \n",
      "111002  21640  \n",
      "115611  30455  \n",
      "129176  42244  \n",
      "153702  11040  \n",
      "154755  31860  \n",
      "172015   8663  \n",
      "180970  30455  \n",
      "190426  11772  \n",
      "213995  12829  \n"
     ]
    }
   ],
   "source": [
    "duf= jeopardy[(jeopardy[\" Question\"].str.contains('planet')) & (jeopardy[\" Question\"].str.contains('ring'))]\n",
    "print (duf)"
   ]
  },
  {
   "cell_type": "code",
   "execution_count": null,
   "metadata": {},
   "outputs": [],
   "source": []
  }
 ],
 "metadata": {
  "kernelspec": {
   "display_name": "Python 2",
   "language": "python",
   "name": "python2"
  },
  "language_info": {
   "codemirror_mode": {
    "name": "ipython",
    "version": 2
   },
   "file_extension": ".py",
   "mimetype": "text/x-python",
   "name": "python",
   "nbconvert_exporter": "python",
   "pygments_lexer": "ipython2",
   "version": "2.7.14"
  }
 },
 "nbformat": 4,
 "nbformat_minor": 2
}
